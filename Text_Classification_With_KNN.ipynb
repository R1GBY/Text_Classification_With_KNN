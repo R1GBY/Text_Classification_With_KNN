{
  "nbformat": 4,
  "nbformat_minor": 0,
  "metadata": {
    "colab": {
      "name": "Grup2_KNN_Öklid_Uzaklık_ile_Metin_Sınıflandırma_son.ipynb",
      "provenance": [],
      "collapsed_sections": []
    },
    "kernelspec": {
      "name": "python3",
      "display_name": "Python 3"
    },
    "language_info": {
      "name": "python"
    }
  },
  "cells": [
    {
      "cell_type": "markdown",
      "source": [
        "Lütfen önce Gül ve Yağ verisetini dosyalara ekleyiniz."
      ],
      "metadata": {
        "id": "9J5LuiysCT01"
      }
    },
    {
      "cell_type": "markdown",
      "source": [
        "**Gül Veriseti ile Sınıflandırma**"
      ],
      "metadata": {
        "id": "CEDdKIhmCr3S"
      }
    },
    {
      "cell_type": "code",
      "execution_count": null,
      "metadata": {
        "colab": {
          "base_uri": "https://localhost:8080/",
          "height": 424
        },
        "id": "Jomhvdq-TZEt",
        "outputId": "490e983f-934b-4ea4-91b9-8c5129fe265d"
      },
      "outputs": [
        {
          "output_type": "execute_result",
          "data": {
            "text/plain": [
              "     Bu kez tatlı ve hoşgörülü bir gülümsemeyle Siz de görüyorsunuz ki dedi  \\\n",
              "0                 Sonra da kahkahalarla gülmeye başladı                       \n",
              "1      Aynı şekilde onlara Küçük prensin güler yüzlü...                       \n",
              "2                     Fil sürüsü fikri onu çok güldürdü                       \n",
              "3     Eğer bu bitki yalnızca bir turp ya da bir gül ...                       \n",
              "4     yoksa bir süre sonra iyice gül fidelerine benz...                       \n",
              "...                                                 ...                       \n",
              "1505     Seni sersem dedi bana tatlı tatlı gülümseyerek                       \n",
              "1506  Ellerinizle aşağıdaki nesneleri tuttuğunuzu ve...                       \n",
              "1507  Kestane ve gül kokuyordu bu yatak bir de nane ...                       \n",
              "1508   Boğazım yanıyordu  kalktım yutkunarak pencere...                       \n",
              "1509  Araya rastlantı karışıp da bana sakladığı gülü...                       \n",
              "\n",
              "      G2  \n",
              "0     G2  \n",
              "1     G2  \n",
              "2     G2  \n",
              "3     G1  \n",
              "4     G1  \n",
              "...   ..  \n",
              "1505  G2  \n",
              "1506  G1  \n",
              "1507  G1  \n",
              "1508  G2  \n",
              "1509  G2  \n",
              "\n",
              "[1510 rows x 2 columns]"
            ],
            "text/html": [
              "\n",
              "  <div id=\"df-4961e13d-b78a-4200-9380-42cdabcca8f2\">\n",
              "    <div class=\"colab-df-container\">\n",
              "      <div>\n",
              "<style scoped>\n",
              "    .dataframe tbody tr th:only-of-type {\n",
              "        vertical-align: middle;\n",
              "    }\n",
              "\n",
              "    .dataframe tbody tr th {\n",
              "        vertical-align: top;\n",
              "    }\n",
              "\n",
              "    .dataframe thead th {\n",
              "        text-align: right;\n",
              "    }\n",
              "</style>\n",
              "<table border=\"1\" class=\"dataframe\">\n",
              "  <thead>\n",
              "    <tr style=\"text-align: right;\">\n",
              "      <th></th>\n",
              "      <th>Bu kez tatlı ve hoşgörülü bir gülümsemeyle Siz de görüyorsunuz ki dedi</th>\n",
              "      <th>G2</th>\n",
              "    </tr>\n",
              "  </thead>\n",
              "  <tbody>\n",
              "    <tr>\n",
              "      <th>0</th>\n",
              "      <td>Sonra da kahkahalarla gülmeye başladı</td>\n",
              "      <td>G2</td>\n",
              "    </tr>\n",
              "    <tr>\n",
              "      <th>1</th>\n",
              "      <td>Aynı şekilde onlara Küçük prensin güler yüzlü...</td>\n",
              "      <td>G2</td>\n",
              "    </tr>\n",
              "    <tr>\n",
              "      <th>2</th>\n",
              "      <td>Fil sürüsü fikri onu çok güldürdü</td>\n",
              "      <td>G2</td>\n",
              "    </tr>\n",
              "    <tr>\n",
              "      <th>3</th>\n",
              "      <td>Eğer bu bitki yalnızca bir turp ya da bir gül ...</td>\n",
              "      <td>G1</td>\n",
              "    </tr>\n",
              "    <tr>\n",
              "      <th>4</th>\n",
              "      <td>yoksa bir süre sonra iyice gül fidelerine benz...</td>\n",
              "      <td>G1</td>\n",
              "    </tr>\n",
              "    <tr>\n",
              "      <th>...</th>\n",
              "      <td>...</td>\n",
              "      <td>...</td>\n",
              "    </tr>\n",
              "    <tr>\n",
              "      <th>1505</th>\n",
              "      <td>Seni sersem dedi bana tatlı tatlı gülümseyerek</td>\n",
              "      <td>G2</td>\n",
              "    </tr>\n",
              "    <tr>\n",
              "      <th>1506</th>\n",
              "      <td>Ellerinizle aşağıdaki nesneleri tuttuğunuzu ve...</td>\n",
              "      <td>G1</td>\n",
              "    </tr>\n",
              "    <tr>\n",
              "      <th>1507</th>\n",
              "      <td>Kestane ve gül kokuyordu bu yatak bir de nane ...</td>\n",
              "      <td>G1</td>\n",
              "    </tr>\n",
              "    <tr>\n",
              "      <th>1508</th>\n",
              "      <td>Boğazım yanıyordu  kalktım yutkunarak pencere...</td>\n",
              "      <td>G2</td>\n",
              "    </tr>\n",
              "    <tr>\n",
              "      <th>1509</th>\n",
              "      <td>Araya rastlantı karışıp da bana sakladığı gülü...</td>\n",
              "      <td>G2</td>\n",
              "    </tr>\n",
              "  </tbody>\n",
              "</table>\n",
              "<p>1510 rows × 2 columns</p>\n",
              "</div>\n",
              "      <button class=\"colab-df-convert\" onclick=\"convertToInteractive('df-4961e13d-b78a-4200-9380-42cdabcca8f2')\"\n",
              "              title=\"Convert this dataframe to an interactive table.\"\n",
              "              style=\"display:none;\">\n",
              "        \n",
              "  <svg xmlns=\"http://www.w3.org/2000/svg\" height=\"24px\"viewBox=\"0 0 24 24\"\n",
              "       width=\"24px\">\n",
              "    <path d=\"M0 0h24v24H0V0z\" fill=\"none\"/>\n",
              "    <path d=\"M18.56 5.44l.94 2.06.94-2.06 2.06-.94-2.06-.94-.94-2.06-.94 2.06-2.06.94zm-11 1L8.5 8.5l.94-2.06 2.06-.94-2.06-.94L8.5 2.5l-.94 2.06-2.06.94zm10 10l.94 2.06.94-2.06 2.06-.94-2.06-.94-.94-2.06-.94 2.06-2.06.94z\"/><path d=\"M17.41 7.96l-1.37-1.37c-.4-.4-.92-.59-1.43-.59-.52 0-1.04.2-1.43.59L10.3 9.45l-7.72 7.72c-.78.78-.78 2.05 0 2.83L4 21.41c.39.39.9.59 1.41.59.51 0 1.02-.2 1.41-.59l7.78-7.78 2.81-2.81c.8-.78.8-2.07 0-2.86zM5.41 20L4 18.59l7.72-7.72 1.47 1.35L5.41 20z\"/>\n",
              "  </svg>\n",
              "      </button>\n",
              "      \n",
              "  <style>\n",
              "    .colab-df-container {\n",
              "      display:flex;\n",
              "      flex-wrap:wrap;\n",
              "      gap: 12px;\n",
              "    }\n",
              "\n",
              "    .colab-df-convert {\n",
              "      background-color: #E8F0FE;\n",
              "      border: none;\n",
              "      border-radius: 50%;\n",
              "      cursor: pointer;\n",
              "      display: none;\n",
              "      fill: #1967D2;\n",
              "      height: 32px;\n",
              "      padding: 0 0 0 0;\n",
              "      width: 32px;\n",
              "    }\n",
              "\n",
              "    .colab-df-convert:hover {\n",
              "      background-color: #E2EBFA;\n",
              "      box-shadow: 0px 1px 2px rgba(60, 64, 67, 0.3), 0px 1px 3px 1px rgba(60, 64, 67, 0.15);\n",
              "      fill: #174EA6;\n",
              "    }\n",
              "\n",
              "    [theme=dark] .colab-df-convert {\n",
              "      background-color: #3B4455;\n",
              "      fill: #D2E3FC;\n",
              "    }\n",
              "\n",
              "    [theme=dark] .colab-df-convert:hover {\n",
              "      background-color: #434B5C;\n",
              "      box-shadow: 0px 1px 3px 1px rgba(0, 0, 0, 0.15);\n",
              "      filter: drop-shadow(0px 1px 2px rgba(0, 0, 0, 0.3));\n",
              "      fill: #FFFFFF;\n",
              "    }\n",
              "  </style>\n",
              "\n",
              "      <script>\n",
              "        const buttonEl =\n",
              "          document.querySelector('#df-4961e13d-b78a-4200-9380-42cdabcca8f2 button.colab-df-convert');\n",
              "        buttonEl.style.display =\n",
              "          google.colab.kernel.accessAllowed ? 'block' : 'none';\n",
              "\n",
              "        async function convertToInteractive(key) {\n",
              "          const element = document.querySelector('#df-4961e13d-b78a-4200-9380-42cdabcca8f2');\n",
              "          const dataTable =\n",
              "            await google.colab.kernel.invokeFunction('convertToInteractive',\n",
              "                                                     [key], {});\n",
              "          if (!dataTable) return;\n",
              "\n",
              "          const docLinkHtml = 'Like what you see? Visit the ' +\n",
              "            '<a target=\"_blank\" href=https://colab.research.google.com/notebooks/data_table.ipynb>data table notebook</a>'\n",
              "            + ' to learn more about interactive tables.';\n",
              "          element.innerHTML = '';\n",
              "          dataTable['output_type'] = 'display_data';\n",
              "          await google.colab.output.renderOutput(dataTable, element);\n",
              "          const docLink = document.createElement('div');\n",
              "          docLink.innerHTML = docLinkHtml;\n",
              "          element.appendChild(docLink);\n",
              "        }\n",
              "      </script>\n",
              "    </div>\n",
              "  </div>\n",
              "  "
            ]
          },
          "metadata": {},
          "execution_count": 1
        }
      ],
      "source": [
        "import pandas as pd\n",
        "dataset = pd.read_excel('gul_vize.xlsx') #excel dosyasını okuyoruz\n",
        "dataset #verisetine dair görünüm"
      ]
    },
    {
      "cell_type": "code",
      "source": [
        "dataset.to_csv('gul.csv', index=True) #excelden csv dosyasına dönüştürüyoruz"
      ],
      "metadata": {
        "id": "jkN2mdjrTlQL"
      },
      "execution_count": null,
      "outputs": []
    },
    {
      "cell_type": "code",
      "source": [
        "import numpy as np\n",
        "\n",
        "df = pd.read_csv('gul.csv', sep=',') #csv dosyasını virgüllere göre ayırarak okuyoruz\n",
        "df.columns=[\"NUMARA\", \"CUMLELER\", \"ETIKETLER\"] #sütunları isimlendiriyoruz\n",
        "df.head()#Nesnemizin içerisinde doğru türde veri olup olmadığını hızlı bir şekilde test ediyoruz."
      ],
      "metadata": {
        "colab": {
          "base_uri": "https://localhost:8080/",
          "height": 206
        },
        "id": "8Uqr7reoTriC",
        "outputId": "813a255d-b5ec-4ec2-9b31-24a242bea444"
      },
      "execution_count": null,
      "outputs": [
        {
          "output_type": "execute_result",
          "data": {
            "text/plain": [
              "   NUMARA                                           CUMLELER ETIKETLER\n",
              "0       0              Sonra da kahkahalarla gülmeye başladı        G2\n",
              "1       1   Aynı şekilde onlara Küçük prensin güler yüzlü...        G2\n",
              "2       2                  Fil sürüsü fikri onu çok güldürdü        G2\n",
              "3       3  Eğer bu bitki yalnızca bir turp ya da bir gül ...        G1\n",
              "4       4  yoksa bir süre sonra iyice gül fidelerine benz...        G1"
            ],
            "text/html": [
              "\n",
              "  <div id=\"df-d57a4ba6-2592-4eda-a68b-3458597d5803\">\n",
              "    <div class=\"colab-df-container\">\n",
              "      <div>\n",
              "<style scoped>\n",
              "    .dataframe tbody tr th:only-of-type {\n",
              "        vertical-align: middle;\n",
              "    }\n",
              "\n",
              "    .dataframe tbody tr th {\n",
              "        vertical-align: top;\n",
              "    }\n",
              "\n",
              "    .dataframe thead th {\n",
              "        text-align: right;\n",
              "    }\n",
              "</style>\n",
              "<table border=\"1\" class=\"dataframe\">\n",
              "  <thead>\n",
              "    <tr style=\"text-align: right;\">\n",
              "      <th></th>\n",
              "      <th>NUMARA</th>\n",
              "      <th>CUMLELER</th>\n",
              "      <th>ETIKETLER</th>\n",
              "    </tr>\n",
              "  </thead>\n",
              "  <tbody>\n",
              "    <tr>\n",
              "      <th>0</th>\n",
              "      <td>0</td>\n",
              "      <td>Sonra da kahkahalarla gülmeye başladı</td>\n",
              "      <td>G2</td>\n",
              "    </tr>\n",
              "    <tr>\n",
              "      <th>1</th>\n",
              "      <td>1</td>\n",
              "      <td>Aynı şekilde onlara Küçük prensin güler yüzlü...</td>\n",
              "      <td>G2</td>\n",
              "    </tr>\n",
              "    <tr>\n",
              "      <th>2</th>\n",
              "      <td>2</td>\n",
              "      <td>Fil sürüsü fikri onu çok güldürdü</td>\n",
              "      <td>G2</td>\n",
              "    </tr>\n",
              "    <tr>\n",
              "      <th>3</th>\n",
              "      <td>3</td>\n",
              "      <td>Eğer bu bitki yalnızca bir turp ya da bir gül ...</td>\n",
              "      <td>G1</td>\n",
              "    </tr>\n",
              "    <tr>\n",
              "      <th>4</th>\n",
              "      <td>4</td>\n",
              "      <td>yoksa bir süre sonra iyice gül fidelerine benz...</td>\n",
              "      <td>G1</td>\n",
              "    </tr>\n",
              "  </tbody>\n",
              "</table>\n",
              "</div>\n",
              "      <button class=\"colab-df-convert\" onclick=\"convertToInteractive('df-d57a4ba6-2592-4eda-a68b-3458597d5803')\"\n",
              "              title=\"Convert this dataframe to an interactive table.\"\n",
              "              style=\"display:none;\">\n",
              "        \n",
              "  <svg xmlns=\"http://www.w3.org/2000/svg\" height=\"24px\"viewBox=\"0 0 24 24\"\n",
              "       width=\"24px\">\n",
              "    <path d=\"M0 0h24v24H0V0z\" fill=\"none\"/>\n",
              "    <path d=\"M18.56 5.44l.94 2.06.94-2.06 2.06-.94-2.06-.94-.94-2.06-.94 2.06-2.06.94zm-11 1L8.5 8.5l.94-2.06 2.06-.94-2.06-.94L8.5 2.5l-.94 2.06-2.06.94zm10 10l.94 2.06.94-2.06 2.06-.94-2.06-.94-.94-2.06-.94 2.06-2.06.94z\"/><path d=\"M17.41 7.96l-1.37-1.37c-.4-.4-.92-.59-1.43-.59-.52 0-1.04.2-1.43.59L10.3 9.45l-7.72 7.72c-.78.78-.78 2.05 0 2.83L4 21.41c.39.39.9.59 1.41.59.51 0 1.02-.2 1.41-.59l7.78-7.78 2.81-2.81c.8-.78.8-2.07 0-2.86zM5.41 20L4 18.59l7.72-7.72 1.47 1.35L5.41 20z\"/>\n",
              "  </svg>\n",
              "      </button>\n",
              "      \n",
              "  <style>\n",
              "    .colab-df-container {\n",
              "      display:flex;\n",
              "      flex-wrap:wrap;\n",
              "      gap: 12px;\n",
              "    }\n",
              "\n",
              "    .colab-df-convert {\n",
              "      background-color: #E8F0FE;\n",
              "      border: none;\n",
              "      border-radius: 50%;\n",
              "      cursor: pointer;\n",
              "      display: none;\n",
              "      fill: #1967D2;\n",
              "      height: 32px;\n",
              "      padding: 0 0 0 0;\n",
              "      width: 32px;\n",
              "    }\n",
              "\n",
              "    .colab-df-convert:hover {\n",
              "      background-color: #E2EBFA;\n",
              "      box-shadow: 0px 1px 2px rgba(60, 64, 67, 0.3), 0px 1px 3px 1px rgba(60, 64, 67, 0.15);\n",
              "      fill: #174EA6;\n",
              "    }\n",
              "\n",
              "    [theme=dark] .colab-df-convert {\n",
              "      background-color: #3B4455;\n",
              "      fill: #D2E3FC;\n",
              "    }\n",
              "\n",
              "    [theme=dark] .colab-df-convert:hover {\n",
              "      background-color: #434B5C;\n",
              "      box-shadow: 0px 1px 3px 1px rgba(0, 0, 0, 0.15);\n",
              "      filter: drop-shadow(0px 1px 2px rgba(0, 0, 0, 0.3));\n",
              "      fill: #FFFFFF;\n",
              "    }\n",
              "  </style>\n",
              "\n",
              "      <script>\n",
              "        const buttonEl =\n",
              "          document.querySelector('#df-d57a4ba6-2592-4eda-a68b-3458597d5803 button.colab-df-convert');\n",
              "        buttonEl.style.display =\n",
              "          google.colab.kernel.accessAllowed ? 'block' : 'none';\n",
              "\n",
              "        async function convertToInteractive(key) {\n",
              "          const element = document.querySelector('#df-d57a4ba6-2592-4eda-a68b-3458597d5803');\n",
              "          const dataTable =\n",
              "            await google.colab.kernel.invokeFunction('convertToInteractive',\n",
              "                                                     [key], {});\n",
              "          if (!dataTable) return;\n",
              "\n",
              "          const docLinkHtml = 'Like what you see? Visit the ' +\n",
              "            '<a target=\"_blank\" href=https://colab.research.google.com/notebooks/data_table.ipynb>data table notebook</a>'\n",
              "            + ' to learn more about interactive tables.';\n",
              "          element.innerHTML = '';\n",
              "          dataTable['output_type'] = 'display_data';\n",
              "          await google.colab.output.renderOutput(dataTable, element);\n",
              "          const docLink = document.createElement('div');\n",
              "          docLink.innerHTML = docLinkHtml;\n",
              "          element.appendChild(docLink);\n",
              "        }\n",
              "      </script>\n",
              "    </div>\n",
              "  </div>\n",
              "  "
            ]
          },
          "metadata": {},
          "execution_count": 3
        }
      ]
    },
    {
      "cell_type": "code",
      "source": [
        "for fn in df.keys():#verisetindeki sütun adlarına sahip bir index nesnesi döndürür.Index nesnesi, sütun adlarını liste öğeleri olarak içeren bir liste gibidir.\n",
        "  print('User uploaded file  \"{name}\" with length {length} bytes'.format(name=fn, length=len(df[fn])))#dosyadaki sütun adları ve bu sütunlar altındaki veri sayısı görüntülenir."
      ],
      "metadata": {
        "colab": {
          "base_uri": "https://localhost:8080/"
        },
        "id": "TOWOUbtiUZle",
        "outputId": "2e0231c2-b518-4f45-d26b-ccefe45b8bc6"
      },
      "execution_count": null,
      "outputs": [
        {
          "output_type": "stream",
          "name": "stdout",
          "text": [
            "User uploaded file  \"NUMARA\" with length 1510 bytes\n",
            "User uploaded file  \"CUMLELER\" with length 1510 bytes\n",
            "User uploaded file  \"ETIKETLER\" with length 1510 bytes\n"
          ]
        }
      ]
    },
    {
      "cell_type": "code",
      "source": [
        "bool_series = pd.isnull(df['CUMLELER']) #cümleler arasında değer atanmamış etiket satırı varsa ilgili bilgileri bir diziye atıyoruz\n",
        "df[bool_series] #ardından gösteriyoruz"
      ],
      "metadata": {
        "colab": {
          "base_uri": "https://localhost:8080/",
          "height": 49
        },
        "outputId": "0d6cb73b-b317-442a-e300-41ca7c1f3082",
        "id": "08yf7_wCu7xT"
      },
      "execution_count": null,
      "outputs": [
        {
          "output_type": "execute_result",
          "data": {
            "text/plain": [
              "Empty DataFrame\n",
              "Columns: [NUMARA, CUMLELER, ETIKETLER]\n",
              "Index: []"
            ],
            "text/html": [
              "\n",
              "  <div id=\"df-f1c657a5-ab27-4a4d-8faf-4d5c443d4fec\">\n",
              "    <div class=\"colab-df-container\">\n",
              "      <div>\n",
              "<style scoped>\n",
              "    .dataframe tbody tr th:only-of-type {\n",
              "        vertical-align: middle;\n",
              "    }\n",
              "\n",
              "    .dataframe tbody tr th {\n",
              "        vertical-align: top;\n",
              "    }\n",
              "\n",
              "    .dataframe thead th {\n",
              "        text-align: right;\n",
              "    }\n",
              "</style>\n",
              "<table border=\"1\" class=\"dataframe\">\n",
              "  <thead>\n",
              "    <tr style=\"text-align: right;\">\n",
              "      <th></th>\n",
              "      <th>NUMARA</th>\n",
              "      <th>CUMLELER</th>\n",
              "      <th>ETIKETLER</th>\n",
              "    </tr>\n",
              "  </thead>\n",
              "  <tbody>\n",
              "  </tbody>\n",
              "</table>\n",
              "</div>\n",
              "      <button class=\"colab-df-convert\" onclick=\"convertToInteractive('df-f1c657a5-ab27-4a4d-8faf-4d5c443d4fec')\"\n",
              "              title=\"Convert this dataframe to an interactive table.\"\n",
              "              style=\"display:none;\">\n",
              "        \n",
              "  <svg xmlns=\"http://www.w3.org/2000/svg\" height=\"24px\"viewBox=\"0 0 24 24\"\n",
              "       width=\"24px\">\n",
              "    <path d=\"M0 0h24v24H0V0z\" fill=\"none\"/>\n",
              "    <path d=\"M18.56 5.44l.94 2.06.94-2.06 2.06-.94-2.06-.94-.94-2.06-.94 2.06-2.06.94zm-11 1L8.5 8.5l.94-2.06 2.06-.94-2.06-.94L8.5 2.5l-.94 2.06-2.06.94zm10 10l.94 2.06.94-2.06 2.06-.94-2.06-.94-.94-2.06-.94 2.06-2.06.94z\"/><path d=\"M17.41 7.96l-1.37-1.37c-.4-.4-.92-.59-1.43-.59-.52 0-1.04.2-1.43.59L10.3 9.45l-7.72 7.72c-.78.78-.78 2.05 0 2.83L4 21.41c.39.39.9.59 1.41.59.51 0 1.02-.2 1.41-.59l7.78-7.78 2.81-2.81c.8-.78.8-2.07 0-2.86zM5.41 20L4 18.59l7.72-7.72 1.47 1.35L5.41 20z\"/>\n",
              "  </svg>\n",
              "      </button>\n",
              "      \n",
              "  <style>\n",
              "    .colab-df-container {\n",
              "      display:flex;\n",
              "      flex-wrap:wrap;\n",
              "      gap: 12px;\n",
              "    }\n",
              "\n",
              "    .colab-df-convert {\n",
              "      background-color: #E8F0FE;\n",
              "      border: none;\n",
              "      border-radius: 50%;\n",
              "      cursor: pointer;\n",
              "      display: none;\n",
              "      fill: #1967D2;\n",
              "      height: 32px;\n",
              "      padding: 0 0 0 0;\n",
              "      width: 32px;\n",
              "    }\n",
              "\n",
              "    .colab-df-convert:hover {\n",
              "      background-color: #E2EBFA;\n",
              "      box-shadow: 0px 1px 2px rgba(60, 64, 67, 0.3), 0px 1px 3px 1px rgba(60, 64, 67, 0.15);\n",
              "      fill: #174EA6;\n",
              "    }\n",
              "\n",
              "    [theme=dark] .colab-df-convert {\n",
              "      background-color: #3B4455;\n",
              "      fill: #D2E3FC;\n",
              "    }\n",
              "\n",
              "    [theme=dark] .colab-df-convert:hover {\n",
              "      background-color: #434B5C;\n",
              "      box-shadow: 0px 1px 3px 1px rgba(0, 0, 0, 0.15);\n",
              "      filter: drop-shadow(0px 1px 2px rgba(0, 0, 0, 0.3));\n",
              "      fill: #FFFFFF;\n",
              "    }\n",
              "  </style>\n",
              "\n",
              "      <script>\n",
              "        const buttonEl =\n",
              "          document.querySelector('#df-f1c657a5-ab27-4a4d-8faf-4d5c443d4fec button.colab-df-convert');\n",
              "        buttonEl.style.display =\n",
              "          google.colab.kernel.accessAllowed ? 'block' : 'none';\n",
              "\n",
              "        async function convertToInteractive(key) {\n",
              "          const element = document.querySelector('#df-f1c657a5-ab27-4a4d-8faf-4d5c443d4fec');\n",
              "          const dataTable =\n",
              "            await google.colab.kernel.invokeFunction('convertToInteractive',\n",
              "                                                     [key], {});\n",
              "          if (!dataTable) return;\n",
              "\n",
              "          const docLinkHtml = 'Like what you see? Visit the ' +\n",
              "            '<a target=\"_blank\" href=https://colab.research.google.com/notebooks/data_table.ipynb>data table notebook</a>'\n",
              "            + ' to learn more about interactive tables.';\n",
              "          element.innerHTML = '';\n",
              "          dataTable['output_type'] = 'display_data';\n",
              "          await google.colab.output.renderOutput(dataTable, element);\n",
              "          const docLink = document.createElement('div');\n",
              "          docLink.innerHTML = docLinkHtml;\n",
              "          element.appendChild(docLink);\n",
              "        }\n",
              "      </script>\n",
              "    </div>\n",
              "  </div>\n",
              "  "
            ]
          },
          "metadata": {},
          "execution_count": 5
        }
      ]
    },
    {
      "cell_type": "code",
      "source": [
        "bool_series = pd.isnull(df['ETIKETLER']) #etiketler arasında değer atanmamış veri satırı varsa ilgili bilgileri bir diziye atıyoruz\n",
        "df[bool_series] #ardından gösteriyoruz"
      ],
      "metadata": {
        "colab": {
          "base_uri": "https://localhost:8080/",
          "height": 49
        },
        "outputId": "8105a3c2-3ca9-4b05-c9e7-5bc0f172dcaa",
        "id": "mlPfFVjYvEsz"
      },
      "execution_count": null,
      "outputs": [
        {
          "output_type": "execute_result",
          "data": {
            "text/plain": [
              "Empty DataFrame\n",
              "Columns: [NUMARA, CUMLELER, ETIKETLER]\n",
              "Index: []"
            ],
            "text/html": [
              "\n",
              "  <div id=\"df-da9c5c75-87d2-42db-8fab-807d04f5bd9e\">\n",
              "    <div class=\"colab-df-container\">\n",
              "      <div>\n",
              "<style scoped>\n",
              "    .dataframe tbody tr th:only-of-type {\n",
              "        vertical-align: middle;\n",
              "    }\n",
              "\n",
              "    .dataframe tbody tr th {\n",
              "        vertical-align: top;\n",
              "    }\n",
              "\n",
              "    .dataframe thead th {\n",
              "        text-align: right;\n",
              "    }\n",
              "</style>\n",
              "<table border=\"1\" class=\"dataframe\">\n",
              "  <thead>\n",
              "    <tr style=\"text-align: right;\">\n",
              "      <th></th>\n",
              "      <th>NUMARA</th>\n",
              "      <th>CUMLELER</th>\n",
              "      <th>ETIKETLER</th>\n",
              "    </tr>\n",
              "  </thead>\n",
              "  <tbody>\n",
              "  </tbody>\n",
              "</table>\n",
              "</div>\n",
              "      <button class=\"colab-df-convert\" onclick=\"convertToInteractive('df-da9c5c75-87d2-42db-8fab-807d04f5bd9e')\"\n",
              "              title=\"Convert this dataframe to an interactive table.\"\n",
              "              style=\"display:none;\">\n",
              "        \n",
              "  <svg xmlns=\"http://www.w3.org/2000/svg\" height=\"24px\"viewBox=\"0 0 24 24\"\n",
              "       width=\"24px\">\n",
              "    <path d=\"M0 0h24v24H0V0z\" fill=\"none\"/>\n",
              "    <path d=\"M18.56 5.44l.94 2.06.94-2.06 2.06-.94-2.06-.94-.94-2.06-.94 2.06-2.06.94zm-11 1L8.5 8.5l.94-2.06 2.06-.94-2.06-.94L8.5 2.5l-.94 2.06-2.06.94zm10 10l.94 2.06.94-2.06 2.06-.94-2.06-.94-.94-2.06-.94 2.06-2.06.94z\"/><path d=\"M17.41 7.96l-1.37-1.37c-.4-.4-.92-.59-1.43-.59-.52 0-1.04.2-1.43.59L10.3 9.45l-7.72 7.72c-.78.78-.78 2.05 0 2.83L4 21.41c.39.39.9.59 1.41.59.51 0 1.02-.2 1.41-.59l7.78-7.78 2.81-2.81c.8-.78.8-2.07 0-2.86zM5.41 20L4 18.59l7.72-7.72 1.47 1.35L5.41 20z\"/>\n",
              "  </svg>\n",
              "      </button>\n",
              "      \n",
              "  <style>\n",
              "    .colab-df-container {\n",
              "      display:flex;\n",
              "      flex-wrap:wrap;\n",
              "      gap: 12px;\n",
              "    }\n",
              "\n",
              "    .colab-df-convert {\n",
              "      background-color: #E8F0FE;\n",
              "      border: none;\n",
              "      border-radius: 50%;\n",
              "      cursor: pointer;\n",
              "      display: none;\n",
              "      fill: #1967D2;\n",
              "      height: 32px;\n",
              "      padding: 0 0 0 0;\n",
              "      width: 32px;\n",
              "    }\n",
              "\n",
              "    .colab-df-convert:hover {\n",
              "      background-color: #E2EBFA;\n",
              "      box-shadow: 0px 1px 2px rgba(60, 64, 67, 0.3), 0px 1px 3px 1px rgba(60, 64, 67, 0.15);\n",
              "      fill: #174EA6;\n",
              "    }\n",
              "\n",
              "    [theme=dark] .colab-df-convert {\n",
              "      background-color: #3B4455;\n",
              "      fill: #D2E3FC;\n",
              "    }\n",
              "\n",
              "    [theme=dark] .colab-df-convert:hover {\n",
              "      background-color: #434B5C;\n",
              "      box-shadow: 0px 1px 3px 1px rgba(0, 0, 0, 0.15);\n",
              "      filter: drop-shadow(0px 1px 2px rgba(0, 0, 0, 0.3));\n",
              "      fill: #FFFFFF;\n",
              "    }\n",
              "  </style>\n",
              "\n",
              "      <script>\n",
              "        const buttonEl =\n",
              "          document.querySelector('#df-da9c5c75-87d2-42db-8fab-807d04f5bd9e button.colab-df-convert');\n",
              "        buttonEl.style.display =\n",
              "          google.colab.kernel.accessAllowed ? 'block' : 'none';\n",
              "\n",
              "        async function convertToInteractive(key) {\n",
              "          const element = document.querySelector('#df-da9c5c75-87d2-42db-8fab-807d04f5bd9e');\n",
              "          const dataTable =\n",
              "            await google.colab.kernel.invokeFunction('convertToInteractive',\n",
              "                                                     [key], {});\n",
              "          if (!dataTable) return;\n",
              "\n",
              "          const docLinkHtml = 'Like what you see? Visit the ' +\n",
              "            '<a target=\"_blank\" href=https://colab.research.google.com/notebooks/data_table.ipynb>data table notebook</a>'\n",
              "            + ' to learn more about interactive tables.';\n",
              "          element.innerHTML = '';\n",
              "          dataTable['output_type'] = 'display_data';\n",
              "          await google.colab.output.renderOutput(dataTable, element);\n",
              "          const docLink = document.createElement('div');\n",
              "          docLink.innerHTML = docLinkHtml;\n",
              "          element.appendChild(docLink);\n",
              "        }\n",
              "      </script>\n",
              "    </div>\n",
              "  </div>\n",
              "  "
            ]
          },
          "metadata": {},
          "execution_count": 6
        }
      ]
    },
    {
      "cell_type": "code",
      "source": [
        "import matplotlib.pyplot as plt\n",
        "\n",
        "label_distribution = df['ETIKETLER'].value_counts()\n",
        "names = ['İsim anlamı', 'Eylem anlamı']\n",
        "values = [label_distribution[0], label_distribution[1]]\n",
        "\n",
        "plt.figure(figsize=(10, 2))\n",
        "plt.subplot(131)\n",
        "plt.bar(names, values)\n",
        "plt.suptitle('Etiket Dağılımları')\n",
        "plt.ylabel('Etiket Sayısı')\n",
        "plt.show() #verisetindeki etiket dağılımlarını gösteriyoruz"
      ],
      "metadata": {
        "colab": {
          "base_uri": "https://localhost:8080/",
          "height": 171
        },
        "id": "hI1Pwh5SrkWE",
        "outputId": "96de31f5-2846-402f-986a-da1a0f47f668"
      },
      "execution_count": null,
      "outputs": [
        {
          "output_type": "display_data",
          "data": {
            "text/plain": [
              "<Figure size 720x144 with 1 Axes>"
            ],
            "image/png": "[encoded data removed]"
          },
          "metadata": {
            "needs_background": "light"
          }
        }
      ]
    },
    {
      "cell_type": "code",
      "source": [
        "X=df[['CUMLELER']]\n",
        "y=df['ETIKETLER']"
      ],
      "metadata": {
        "id": "m6_o2pwEU02A"
      },
      "execution_count": null,
      "outputs": []
    },
    {
      "cell_type": "code",
      "source": [
        "X"
      ],
      "metadata": {
        "colab": {
          "base_uri": "https://localhost:8080/",
          "height": 424
        },
        "id": "JClW2swBU2I3",
        "outputId": "d4417a73-4ead-487a-8a3f-a18fdfbd309a"
      },
      "execution_count": null,
      "outputs": [
        {
          "output_type": "execute_result",
          "data": {
            "text/plain": [
              "                                               CUMLELER\n",
              "0                 Sonra da kahkahalarla gülmeye başladı\n",
              "1      Aynı şekilde onlara Küçük prensin güler yüzlü...\n",
              "2                     Fil sürüsü fikri onu çok güldürdü\n",
              "3     Eğer bu bitki yalnızca bir turp ya da bir gül ...\n",
              "4     yoksa bir süre sonra iyice gül fidelerine benz...\n",
              "...                                                 ...\n",
              "1505     Seni sersem dedi bana tatlı tatlı gülümseyerek\n",
              "1506  Ellerinizle aşağıdaki nesneleri tuttuğunuzu ve...\n",
              "1507  Kestane ve gül kokuyordu bu yatak bir de nane ...\n",
              "1508   Boğazım yanıyordu  kalktım yutkunarak pencere...\n",
              "1509  Araya rastlantı karışıp da bana sakladığı gülü...\n",
              "\n",
              "[1510 rows x 1 columns]"
            ],
            "text/html": [
              "\n",
              "  <div id=\"df-8aba85a1-1c6c-466d-bb6c-73928abe3bf2\">\n",
              "    <div class=\"colab-df-container\">\n",
              "      <div>\n",
              "<style scoped>\n",
              "    .dataframe tbody tr th:only-of-type {\n",
              "        vertical-align: middle;\n",
              "    }\n",
              "\n",
              "    .dataframe tbody tr th {\n",
              "        vertical-align: top;\n",
              "    }\n",
              "\n",
              "    .dataframe thead th {\n",
              "        text-align: right;\n",
              "    }\n",
              "</style>\n",
              "<table border=\"1\" class=\"dataframe\">\n",
              "  <thead>\n",
              "    <tr style=\"text-align: right;\">\n",
              "      <th></th>\n",
              "      <th>CUMLELER</th>\n",
              "    </tr>\n",
              "  </thead>\n",
              "  <tbody>\n",
              "    <tr>\n",
              "      <th>0</th>\n",
              "      <td>Sonra da kahkahalarla gülmeye başladı</td>\n",
              "    </tr>\n",
              "    <tr>\n",
              "      <th>1</th>\n",
              "      <td>Aynı şekilde onlara Küçük prensin güler yüzlü...</td>\n",
              "    </tr>\n",
              "    <tr>\n",
              "      <th>2</th>\n",
              "      <td>Fil sürüsü fikri onu çok güldürdü</td>\n",
              "    </tr>\n",
              "    <tr>\n",
              "      <th>3</th>\n",
              "      <td>Eğer bu bitki yalnızca bir turp ya da bir gül ...</td>\n",
              "    </tr>\n",
              "    <tr>\n",
              "      <th>4</th>\n",
              "      <td>yoksa bir süre sonra iyice gül fidelerine benz...</td>\n",
              "    </tr>\n",
              "    <tr>\n",
              "      <th>...</th>\n",
              "      <td>...</td>\n",
              "    </tr>\n",
              "    <tr>\n",
              "      <th>1505</th>\n",
              "      <td>Seni sersem dedi bana tatlı tatlı gülümseyerek</td>\n",
              "    </tr>\n",
              "    <tr>\n",
              "      <th>1506</th>\n",
              "      <td>Ellerinizle aşağıdaki nesneleri tuttuğunuzu ve...</td>\n",
              "    </tr>\n",
              "    <tr>\n",
              "      <th>1507</th>\n",
              "      <td>Kestane ve gül kokuyordu bu yatak bir de nane ...</td>\n",
              "    </tr>\n",
              "    <tr>\n",
              "      <th>1508</th>\n",
              "      <td>Boğazım yanıyordu  kalktım yutkunarak pencere...</td>\n",
              "    </tr>\n",
              "    <tr>\n",
              "      <th>1509</th>\n",
              "      <td>Araya rastlantı karışıp da bana sakladığı gülü...</td>\n",
              "    </tr>\n",
              "  </tbody>\n",
              "</table>\n",
              "<p>1510 rows × 1 columns</p>\n",
              "</div>\n",
              "      <button class=\"colab-df-convert\" onclick=\"convertToInteractive('df-8aba85a1-1c6c-466d-bb6c-73928abe3bf2')\"\n",
              "              title=\"Convert this dataframe to an interactive table.\"\n",
              "              style=\"display:none;\">\n",
              "        \n",
              "  <svg xmlns=\"http://www.w3.org/2000/svg\" height=\"24px\"viewBox=\"0 0 24 24\"\n",
              "       width=\"24px\">\n",
              "    <path d=\"M0 0h24v24H0V0z\" fill=\"none\"/>\n",
              "    <path d=\"M18.56 5.44l.94 2.06.94-2.06 2.06-.94-2.06-.94-.94-2.06-.94 2.06-2.06.94zm-11 1L8.5 8.5l.94-2.06 2.06-.94-2.06-.94L8.5 2.5l-.94 2.06-2.06.94zm10 10l.94 2.06.94-2.06 2.06-.94-2.06-.94-.94-2.06-.94 2.06-2.06.94z\"/><path d=\"M17.41 7.96l-1.37-1.37c-.4-.4-.92-.59-1.43-.59-.52 0-1.04.2-1.43.59L10.3 9.45l-7.72 7.72c-.78.78-.78 2.05 0 2.83L4 21.41c.39.39.9.59 1.41.59.51 0 1.02-.2 1.41-.59l7.78-7.78 2.81-2.81c.8-.78.8-2.07 0-2.86zM5.41 20L4 18.59l7.72-7.72 1.47 1.35L5.41 20z\"/>\n",
              "  </svg>\n",
              "      </button>\n",
              "      \n",
              "  <style>\n",
              "    .colab-df-container {\n",
              "      display:flex;\n",
              "      flex-wrap:wrap;\n",
              "      gap: 12px;\n",
              "    }\n",
              "\n",
              "    .colab-df-convert {\n",
              "      background-color: #E8F0FE;\n",
              "      border: none;\n",
              "      border-radius: 50%;\n",
              "      cursor: pointer;\n",
              "      display: none;\n",
              "      fill: #1967D2;\n",
              "      height: 32px;\n",
              "      padding: 0 0 0 0;\n",
              "      width: 32px;\n",
              "    }\n",
              "\n",
              "    .colab-df-convert:hover {\n",
              "      background-color: #E2EBFA;\n",
              "      box-shadow: 0px 1px 2px rgba(60, 64, 67, 0.3), 0px 1px 3px 1px rgba(60, 64, 67, 0.15);\n",
              "      fill: #174EA6;\n",
              "    }\n",
              "\n",
              "    [theme=dark] .colab-df-convert {\n",
              "      background-color: #3B4455;\n",
              "      fill: #D2E3FC;\n",
              "    }\n",
              "\n",
              "    [theme=dark] .colab-df-convert:hover {\n",
              "      background-color: #434B5C;\n",
              "      box-shadow: 0px 1px 3px 1px rgba(0, 0, 0, 0.15);\n",
              "      filter: drop-shadow(0px 1px 2px rgba(0, 0, 0, 0.3));\n",
              "      fill: #FFFFFF;\n",
              "    }\n",
              "  </style>\n",
              "\n",
              "      <script>\n",
              "        const buttonEl =\n",
              "          document.querySelector('#df-8aba85a1-1c6c-466d-bb6c-73928abe3bf2 button.colab-df-convert');\n",
              "        buttonEl.style.display =\n",
              "          google.colab.kernel.accessAllowed ? 'block' : 'none';\n",
              "\n",
              "        async function convertToInteractive(key) {\n",
              "          const element = document.querySelector('#df-8aba85a1-1c6c-466d-bb6c-73928abe3bf2');\n",
              "          const dataTable =\n",
              "            await google.colab.kernel.invokeFunction('convertToInteractive',\n",
              "                                                     [key], {});\n",
              "          if (!dataTable) return;\n",
              "\n",
              "          const docLinkHtml = 'Like what you see? Visit the ' +\n",
              "            '<a target=\"_blank\" href=https://colab.research.google.com/notebooks/data_table.ipynb>data table notebook</a>'\n",
              "            + ' to learn more about interactive tables.';\n",
              "          element.innerHTML = '';\n",
              "          dataTable['output_type'] = 'display_data';\n",
              "          await google.colab.output.renderOutput(dataTable, element);\n",
              "          const docLink = document.createElement('div');\n",
              "          docLink.innerHTML = docLinkHtml;\n",
              "          element.appendChild(docLink);\n",
              "        }\n",
              "      </script>\n",
              "    </div>\n",
              "  </div>\n",
              "  "
            ]
          },
          "metadata": {},
          "execution_count": 9
        }
      ]
    },
    {
      "cell_type": "code",
      "source": [
        "y"
      ],
      "metadata": {
        "colab": {
          "base_uri": "https://localhost:8080/"
        },
        "id": "U7tZkUpZU3YM",
        "outputId": "ec3d0162-c3ba-4029-d8eb-a8495d142a93"
      },
      "execution_count": null,
      "outputs": [
        {
          "output_type": "execute_result",
          "data": {
            "text/plain": [
              "0       G2\n",
              "1       G2\n",
              "2       G2\n",
              "3       G1\n",
              "4       G1\n",
              "        ..\n",
              "1505    G2\n",
              "1506    G1\n",
              "1507    G1\n",
              "1508    G2\n",
              "1509    G2\n",
              "Name: ETIKETLER, Length: 1510, dtype: object"
            ]
          },
          "metadata": {},
          "execution_count": 10
        }
      ]
    },
    {
      "cell_type": "markdown",
      "source": [
        "**%30 Test Olarak Ayrılırsa Gül Verisetiyle Sınıflandırma**"
      ],
      "metadata": {
        "id": "VaD0pggw1tIA"
      }
    },
    {
      "cell_type": "code",
      "source": [
        "from sklearn.model_selection import train_test_split\n",
        "\n",
        "X=df['CUMLELER']#Verisetinde cümlelerin yer aldığı sütun X değişkeninde saklanıyor\n",
        "y=df['ETIKETLER']#Verisetinde etiketlerin  yer aldığı sütun Y değişkeninde saklanıyor\n",
        "\n",
        "X_train, X_test, y_train, y_test = train_test_split(X, y, test_size=0.30, random_state=42) #verisetini %70 eğitim %30 test olarak ayırıyoruz"
      ],
      "metadata": {
        "id": "KG4zEgMAVBtK"
      },
      "execution_count": null,
      "outputs": []
    },
    {
      "cell_type": "code",
      "source": [
        "X_train.shape ##dizinin boyutlarını verir."
      ],
      "metadata": {
        "colab": {
          "base_uri": "https://localhost:8080/"
        },
        "id": "mEd2HeV_VDAA",
        "outputId": "c6941280-e04a-4f4c-a7ab-ffae1caae663"
      },
      "execution_count": null,
      "outputs": [
        {
          "output_type": "execute_result",
          "data": {
            "text/plain": [
              "(1057,)"
            ]
          },
          "metadata": {},
          "execution_count": 12
        }
      ]
    },
    {
      "cell_type": "code",
      "source": [
        "from sklearn.feature_extraction.text import CountVectorizer\n",
        "count_vect=CountVectorizer()\n",
        "X_train_counts = count_vect.fit_transform(X_train)\n",
        "##Burada eğitim için metin verilerinin vektörleşmesi gerekiyor.Bunun için CountVectorizer kullanılıyor."
      ],
      "metadata": {
        "id": "0JQKMcfRVEUA"
      },
      "execution_count": null,
      "outputs": []
    },
    {
      "cell_type": "code",
      "source": [
        "X_train_counts.shape #dizinin boyutlarını verir."
      ],
      "metadata": {
        "colab": {
          "base_uri": "https://localhost:8080/"
        },
        "id": "inbQb1sLVFVw",
        "outputId": "c74e31b8-b420-4d58-a72d-f16658ddc2f7"
      },
      "execution_count": null,
      "outputs": [
        {
          "output_type": "execute_result",
          "data": {
            "text/plain": [
              "(1057, 5645)"
            ]
          },
          "metadata": {},
          "execution_count": 14
        }
      ]
    },
    {
      "cell_type": "code",
      "source": [
        "from sklearn.feature_extraction.text import TfidfTransformer\n",
        "tfidf_transformer = TfidfTransformer()\n",
        "X_train_tfidf=tfidf_transformer.fit_transform(X_train_counts)\n",
        "#vektörlerden oluşan verinin TFIDF featurelara dönüşümü vardır.\n",
        "#kelimelerden oluşan verilerin sayısal veriye dönüşümü için 2 yöntem kullanılır:Bag of Words ve Embedding Model. Burada verilerin bag of words yöntemi ile değil de direkt TFIDF featurelara dönüşümü TfidTransformer() ile sağlanmıştır."
      ],
      "metadata": {
        "id": "YiAVnJHTVGdU"
      },
      "execution_count": null,
      "outputs": []
    },
    {
      "cell_type": "code",
      "source": [
        "X_train_tfidf.shape#Eğitim verisetinin boyutları görüntülenir."
      ],
      "metadata": {
        "colab": {
          "base_uri": "https://localhost:8080/"
        },
        "id": "4D1vWYAlVH6M",
        "outputId": "89718be5-3d43-4b34-db04-778f07b625a8"
      },
      "execution_count": null,
      "outputs": [
        {
          "output_type": "execute_result",
          "data": {
            "text/plain": [
              "(1057, 5645)"
            ]
          },
          "metadata": {},
          "execution_count": 16
        }
      ]
    },
    {
      "cell_type": "code",
      "source": [
        "from sklearn.pipeline import Pipeline\n",
        "from sklearn .feature_extraction.text import TfidfVectorizer\n",
        "from sklearn.neighbors import KNeighborsClassifier\n",
        "\n",
        "text_clf = Pipeline([('tfidf',TfidfVectorizer()),\n",
        "                     ('clf',KNeighborsClassifier(n_neighbors=5)),])\n",
        "text_clf.fit(X_train, y_train)\n",
        "#giriş verilerini bir TF-IDF özellikleri matrisine dönüştüren ve KNN sınıflandırıcı kullanarak test verilerini sınıflandıran basit bir Pipeline nesnesi oluşturuyoruz.\n",
        "#Daha sonra tüm pipeline fit edilir ve test verilerini tahmin edebiliriz. Sıralı tahmin ediciler oluşturulmuş olur."
      ],
      "metadata": {
        "colab": {
          "base_uri": "https://localhost:8080/"
        },
        "id": "_SlH6gymVJgY",
        "outputId": "b95be9ef-e2a4-4f5f-9651-396e1ad91b5a"
      },
      "execution_count": null,
      "outputs": [
        {
          "output_type": "execute_result",
          "data": {
            "text/plain": [
              "Pipeline(steps=[('tfidf', TfidfVectorizer()), ('clf', KNeighborsClassifier())])"
            ]
          },
          "metadata": {},
          "execution_count": 17
        }
      ]
    },
    {
      "cell_type": "code",
      "source": [
        "predictions = text_clf.predict(X_test)\n",
        "#test veriseti kullanılarak tahmin gerçekleştirilir."
      ],
      "metadata": {
        "id": "QusjY-swyJaM"
      },
      "execution_count": null,
      "outputs": []
    },
    {
      "cell_type": "code",
      "source": [
        "from sklearn import metrics\n",
        "print(metrics.confusion_matrix(y_test,predictions))\n",
        "#Yaptığımız sınıflandırmanın doğruluğunu kontrol etmek için hata matrisi oluşturuyoruz. Hata matrisi için scikit-learn kütüphanesi metrics modülü confusion_matrix fonksiyonunu kullanıyoruz.\n",
        "#burada 51 yanlış 402 doğru sınıflandırma yapıldığını görüyoruz."
      ],
      "metadata": {
        "colab": {
          "base_uri": "https://localhost:8080/"
        },
        "id": "Iu3eh-9Syjlj",
        "outputId": "3d270c27-c08c-4e41-a6af-a8ce83b07405"
      },
      "execution_count": null,
      "outputs": [
        {
          "output_type": "stream",
          "name": "stdout",
          "text": [
            "[[164  36]\n",
            " [ 15 238]]\n"
          ]
        }
      ]
    },
    {
      "cell_type": "code",
      "source": [
        "print(metrics.classification_report(y_test,predictions))\n",
        "#sınıflandırma raporu oluşturulur,burada bazı özel değerler vardır.\n",
        "#presicion:(kesinlik)Tahminlerin yüzde kaçı doğru çıkmıştır,bunu gösterir.Pozitif olarak tahminlediğimiz değerlerin gerçekten kaç adedinin pozitif olduğunu göstermektedir.\n",
        "#recall(duyarlılık): bir sınıflandırıcının tüm pozitif örnekleri bulma yeteneğidir. Her sınıf için, gerçek pozitiflerin, gerçek pozitiflerin ve yanlış negatiflerin toplamına oranı olarak tanımlanır.\n",
        "#f1-score:Pozitif tahminlerin yüzde kaçının doğru olduğunu gösterir.Kesinlik ve duyarlılığın harmonik ortalmasıdır.\n"
      ],
      "metadata": {
        "colab": {
          "base_uri": "https://localhost:8080/"
        },
        "id": "H96I5lWryw5G",
        "outputId": "9b82a6d9-0cce-4b63-deba-d2b5eeb0048e"
      },
      "execution_count": null,
      "outputs": [
        {
          "output_type": "stream",
          "name": "stdout",
          "text": [
            "              precision    recall  f1-score   support\n",
            "\n",
            "          G1       0.92      0.82      0.87       200\n",
            "          G2       0.87      0.94      0.90       253\n",
            "\n",
            "    accuracy                           0.89       453\n",
            "   macro avg       0.89      0.88      0.88       453\n",
            "weighted avg       0.89      0.89      0.89       453\n",
            "\n"
          ]
        }
      ]
    },
    {
      "cell_type": "code",
      "source": [
        "print(metrics.accuracy_score(y_test,predictions))\n",
        "#Çok etiketli sınıflandırmada, accuracy score küme doğruluğunu hesaplar: bir numune için tahmin edilen etiket kümesi, y_true içindeki karşılık gelen etiket kümesiyle tam olarak eşleşmelidir."
      ],
      "metadata": {
        "colab": {
          "base_uri": "https://localhost:8080/"
        },
        "id": "hYiCgVE6y623",
        "outputId": "89f62d8f-09a1-4a03-f697-8c7d12f79a9f"
      },
      "execution_count": null,
      "outputs": [
        {
          "output_type": "stream",
          "name": "stdout",
          "text": [
            "0.8874172185430463\n"
          ]
        }
      ]
    },
    {
      "cell_type": "markdown",
      "source": [
        "**%70 Test Olarak Ayrılırsa Gül Verisetiyle Sınıflandırma**"
      ],
      "metadata": {
        "id": "K1FNWn8g2L7x"
      }
    },
    {
      "cell_type": "code",
      "source": [
        "from sklearn.model_selection import train_test_split\n",
        "\n",
        "X=df['CUMLELER']#Verisetinde cümlelerin yer aldığı sütun X değişkeninde saklanıyor\n",
        "y=df['ETIKETLER']#Verisetinde etiketlerin  yer aldığı sütun Y değişkeninde saklanıyor\n",
        "\n",
        "X_train, X_test, y_train, y_test = train_test_split(X, y, test_size=0.70, random_state=42) #verisetini %70 test %30 eğitim olarak ayırıyoruz"
      ],
      "metadata": {
        "id": "2yyNl-ea2UC9"
      },
      "execution_count": null,
      "outputs": []
    },
    {
      "cell_type": "code",
      "source": [
        "X_train.shape\n",
        "#X_train dizisinin boyutlarını verir."
      ],
      "metadata": {
        "colab": {
          "base_uri": "https://localhost:8080/"
        },
        "outputId": "72080cda-525c-41fe-85c7-24ac2c9fdcf3",
        "id": "aySb9qqE2hv1"
      },
      "execution_count": null,
      "outputs": [
        {
          "output_type": "execute_result",
          "data": {
            "text/plain": [
              "(453,)"
            ]
          },
          "metadata": {},
          "execution_count": 23
        }
      ]
    },
    {
      "cell_type": "code",
      "source": [
        "from sklearn.feature_extraction.text import CountVectorizer\n",
        "count_vect=CountVectorizer()\n",
        "X_train_counts = count_vect.fit_transform(X_train)\n",
        "#Burada eğitim için metin verilerinin vektörleşmesi gerekiyor.Bunun için CountVectorizer kullanılıyor."
      ],
      "metadata": {
        "id": "-LORkity2lA0"
      },
      "execution_count": null,
      "outputs": []
    },
    {
      "cell_type": "code",
      "source": [
        "from sklearn.feature_extraction.text import TfidfTransformer\n",
        "tfidf_transformer = TfidfTransformer()\n",
        "X_train_tfidf=tfidf_transformer.fit_transform(X_train_counts)\n",
        "#vektörlerden oluşan verinin TFIDF featurelara dönüşümü vardır.\n",
        "#kelimelerden oluşan verilerin sayısal veriye dönüşümü için 2 yöntem kullanılır:Bag of Words ve Embedding Model. Burada verilerin bag of words yöntemi ile değil de direkt TFIDF featurelara dönüşümü TfidTransformer() ile sağlanmıştır."
      ],
      "metadata": {
        "id": "NFIx7NhK2ohd"
      },
      "execution_count": null,
      "outputs": []
    },
    {
      "cell_type": "code",
      "source": [
        "from sklearn.pipeline import Pipeline\n",
        "from sklearn .feature_extraction.text import TfidfVectorizer\n",
        "from sklearn.neighbors import KNeighborsClassifier\n",
        "\n",
        "text_clf = Pipeline([('tfidf',TfidfVectorizer()),\n",
        "                     ('clf',KNeighborsClassifier(n_neighbors=5)),])\n",
        "text_clf.fit(X_train, y_train)\n",
        "#giriş verilerini bir TF-IDF özellikleri matrisine dönüştüren ve KNN sınıflandırıcı kullanarak test verilerini sınıflandıran basit bir Pipeline nesnesi oluşturuyoruz.\n",
        "#Daha sonra tüm pipeline fit edilir ve test verilerini tahmin edebiliriz. Sıralı tahmin ediciler oluşturulmuş olur.\n"
      ],
      "metadata": {
        "colab": {
          "base_uri": "https://localhost:8080/"
        },
        "outputId": "1da19805-a39f-4a10-d03b-80abce3f579f",
        "id": "nR04qoIj2vBV"
      },
      "execution_count": null,
      "outputs": [
        {
          "output_type": "execute_result",
          "data": {
            "text/plain": [
              "Pipeline(steps=[('tfidf', TfidfVectorizer()), ('clf', KNeighborsClassifier())])"
            ]
          },
          "metadata": {},
          "execution_count": 26
        }
      ]
    },
    {
      "cell_type": "code",
      "source": [
        "predictions = text_clf.predict(X_test)\n",
        "#test setimiz ile tahminler gerçekleştirilir."
      ],
      "metadata": {
        "id": "hKmDzkw72xRc"
      },
      "execution_count": null,
      "outputs": []
    },
    {
      "cell_type": "code",
      "source": [
        "from sklearn import metrics\n",
        "print(metrics.confusion_matrix(y_test,predictions))\n",
        "#Yaptığımız sınıflandırmanın doğruluğunu kontrol etme yöntemlerinden birisi de hata matrisi oluşturmaktır. Hata matrisi için scikit-learn kütüphanesi metrics modülü confusion_matrix fonksiyonunu kullanıyoruz.\n",
        "#burada 127 yanlış 930 doğru sınıflandırma yapıldığını görüyoruz."
      ],
      "metadata": {
        "colab": {
          "base_uri": "https://localhost:8080/"
        },
        "outputId": "2860c838-aa11-4cb0-9794-20e9b04f2026",
        "id": "jK5FHI5D2zJV"
      },
      "execution_count": null,
      "outputs": [
        {
          "output_type": "stream",
          "name": "stdout",
          "text": [
            "[[379  78]\n",
            " [ 49 551]]\n"
          ]
        }
      ]
    },
    {
      "cell_type": "code",
      "source": [
        "print(metrics.classification_report(y_test,predictions))\n",
        "#Sınıflandırma raporu oluşturulur\n",
        "#presicion:(kesinlik)Tahminlerin yüzde kaçı doğru çıkmıştır,bunu gösterir.Pozitif olarak tahminlediğimiz değerlerin gerçekten kaç adedinin pozitif olduğunu göstermektedir.\n",
        "#recall(duyarlılık): bir sınıflandırıcının tüm pozitif örnekleri bulma yeteneğidir. Her sınıf için, gerçek pozitiflerin, gerçek pozitiflerin ve yanlış negatiflerin toplamına oranı olarak tanımlanır.\n",
        "#f1-score:Pozitif tahminlerin yüzde kaçının doğru olduğunu gösterir.Kesinlik ve duyarlılığın harmonik ortalmasıdır."
      ],
      "metadata": {
        "colab": {
          "base_uri": "https://localhost:8080/"
        },
        "outputId": "402ec492-9e99-43d1-90b3-1fe901914e10",
        "id": "NcXwF3ZF21Cc"
      },
      "execution_count": null,
      "outputs": [
        {
          "output_type": "stream",
          "name": "stdout",
          "text": [
            "              precision    recall  f1-score   support\n",
            "\n",
            "          G1       0.89      0.83      0.86       457\n",
            "          G2       0.88      0.92      0.90       600\n",
            "\n",
            "    accuracy                           0.88      1057\n",
            "   macro avg       0.88      0.87      0.88      1057\n",
            "weighted avg       0.88      0.88      0.88      1057\n",
            "\n"
          ]
        }
      ]
    },
    {
      "cell_type": "code",
      "source": [
        "print(\"Accuracy: \",metrics.accuracy_score(y_test,predictions))\n",
        "#Çok etiketli sınıflandırmada, accuracy score alt küme doğruluğunu hesaplar: bir numune için tahmin edilen etiket kümesi, y_true içindeki karşılık gelen etiket kümesiyle tam olarak eşleşmelidir."
      ],
      "metadata": {
        "colab": {
          "base_uri": "https://localhost:8080/"
        },
        "outputId": "3af76534-3df9-4e95-e91d-0d5df6e4c69c",
        "id": "1Ftd6jz224el"
      },
      "execution_count": null,
      "outputs": [
        {
          "output_type": "stream",
          "name": "stdout",
          "text": [
            "Accuracy:  0.6197530864197531\n"
          ]
        }
      ]
    },
    {
      "cell_type": "markdown",
      "source": [
        "**%30 Test Olarak Ayrılırsa Yağ Verisetiyle Sınıflandırma**"
      ],
      "metadata": {
        "id": "5arh_FbkCj6g"
      }
    },
    {
      "cell_type": "code",
      "execution_count": null,
      "metadata": {
        "colab": {
          "base_uri": "https://localhost:8080/",
          "height": 424
        },
        "outputId": "2c72f211-1925-44bc-e369-743abf5f8e1f",
        "id": "kTJUeCIhC24k"
      },
      "outputs": [
        {
          "output_type": "execute_result",
          "data": {
            "text/plain": [
              "     Joe Saul ile Ed arkalarında yağan kar ile eşikte durmuş üstlerini başlarını silkiyorlardı  \\\n",
              "0     Sert sürekli bir yel sanki mavi göklerden yağı...                                          \n",
              "1     Yaklaşan fırtınada yüzünü acımasızca ısıran su...                                          \n",
              "2     Kuzey Okyanusunun balina gemilerinden çıkmış İ...                                          \n",
              "3     Üzerine cehennem ateşleri yağdırır gibi bağırı...                                          \n",
              "4     Kare şeklinde dizilmiş kulübelerin tam merkezi...                                          \n",
              "...                                                 ...                                          \n",
              "5202  Ölüden toprağa karışan yağ bir çok insana besi...                                          \n",
              "5203   Yağlı bir iş bulmuş torpili içeriden ayarlamıştı                                          \n",
              "5204  Üstümüzdeki gök olmasa göktaşları başımıza yağ...                                          \n",
              "5205  Buralara kışın öyle bir kar yağar ki insan boy...                                          \n",
              "5206  Bütün gece sıkışan yağlarım etlerim korseyi aç...                                          \n",
              "\n",
              "      Y6  \n",
              "0     Y6  \n",
              "1     Y6  \n",
              "2     Y1  \n",
              "3     Y6  \n",
              "4     Y1  \n",
              "...   ..  \n",
              "5202  Y3  \n",
              "5203  Y5  \n",
              "5204  Y6  \n",
              "5205  Y6  \n",
              "5206  Y3  \n",
              "\n",
              "[5207 rows x 2 columns]"
            ],
            "text/html": [
              "\n",
              "  <div id=\"df-5da04c17-dc00-4258-8172-b9d1f89baac5\">\n",
              "    <div class=\"colab-df-container\">\n",
              "      <div>\n",
              "<style scoped>\n",
              "    .dataframe tbody tr th:only-of-type {\n",
              "        vertical-align: middle;\n",
              "    }\n",
              "\n",
              "    .dataframe tbody tr th {\n",
              "        vertical-align: top;\n",
              "    }\n",
              "\n",
              "    .dataframe thead th {\n",
              "        text-align: right;\n",
              "    }\n",
              "</style>\n",
              "<table border=\"1\" class=\"dataframe\">\n",
              "  <thead>\n",
              "    <tr style=\"text-align: right;\">\n",
              "      <th></th>\n",
              "      <th>Joe Saul ile Ed arkalarında yağan kar ile eşikte durmuş üstlerini başlarını silkiyorlardı</th>\n",
              "      <th>Y6</th>\n",
              "    </tr>\n",
              "  </thead>\n",
              "  <tbody>\n",
              "    <tr>\n",
              "      <th>0</th>\n",
              "      <td>Sert sürekli bir yel sanki mavi göklerden yağı...</td>\n",
              "      <td>Y6</td>\n",
              "    </tr>\n",
              "    <tr>\n",
              "      <th>1</th>\n",
              "      <td>Yaklaşan fırtınada yüzünü acımasızca ısıran su...</td>\n",
              "      <td>Y6</td>\n",
              "    </tr>\n",
              "    <tr>\n",
              "      <th>2</th>\n",
              "      <td>Kuzey Okyanusunun balina gemilerinden çıkmış İ...</td>\n",
              "      <td>Y1</td>\n",
              "    </tr>\n",
              "    <tr>\n",
              "      <th>3</th>\n",
              "      <td>Üzerine cehennem ateşleri yağdırır gibi bağırı...</td>\n",
              "      <td>Y6</td>\n",
              "    </tr>\n",
              "    <tr>\n",
              "      <th>4</th>\n",
              "      <td>Kare şeklinde dizilmiş kulübelerin tam merkezi...</td>\n",
              "      <td>Y1</td>\n",
              "    </tr>\n",
              "    <tr>\n",
              "      <th>...</th>\n",
              "      <td>...</td>\n",
              "      <td>...</td>\n",
              "    </tr>\n",
              "    <tr>\n",
              "      <th>5202</th>\n",
              "      <td>Ölüden toprağa karışan yağ bir çok insana besi...</td>\n",
              "      <td>Y3</td>\n",
              "    </tr>\n",
              "    <tr>\n",
              "      <th>5203</th>\n",
              "      <td>Yağlı bir iş bulmuş torpili içeriden ayarlamıştı</td>\n",
              "      <td>Y5</td>\n",
              "    </tr>\n",
              "    <tr>\n",
              "      <th>5204</th>\n",
              "      <td>Üstümüzdeki gök olmasa göktaşları başımıza yağ...</td>\n",
              "      <td>Y6</td>\n",
              "    </tr>\n",
              "    <tr>\n",
              "      <th>5205</th>\n",
              "      <td>Buralara kışın öyle bir kar yağar ki insan boy...</td>\n",
              "      <td>Y6</td>\n",
              "    </tr>\n",
              "    <tr>\n",
              "      <th>5206</th>\n",
              "      <td>Bütün gece sıkışan yağlarım etlerim korseyi aç...</td>\n",
              "      <td>Y3</td>\n",
              "    </tr>\n",
              "  </tbody>\n",
              "</table>\n",
              "<p>5207 rows × 2 columns</p>\n",
              "</div>\n",
              "      <button class=\"colab-df-convert\" onclick=\"convertToInteractive('df-5da04c17-dc00-4258-8172-b9d1f89baac5')\"\n",
              "              title=\"Convert this dataframe to an interactive table.\"\n",
              "              style=\"display:none;\">\n",
              "        \n",
              "  <svg xmlns=\"http://www.w3.org/2000/svg\" height=\"24px\"viewBox=\"0 0 24 24\"\n",
              "       width=\"24px\">\n",
              "    <path d=\"M0 0h24v24H0V0z\" fill=\"none\"/>\n",
              "    <path d=\"M18.56 5.44l.94 2.06.94-2.06 2.06-.94-2.06-.94-.94-2.06-.94 2.06-2.06.94zm-11 1L8.5 8.5l.94-2.06 2.06-.94-2.06-.94L8.5 2.5l-.94 2.06-2.06.94zm10 10l.94 2.06.94-2.06 2.06-.94-2.06-.94-.94-2.06-.94 2.06-2.06.94z\"/><path d=\"M17.41 7.96l-1.37-1.37c-.4-.4-.92-.59-1.43-.59-.52 0-1.04.2-1.43.59L10.3 9.45l-7.72 7.72c-.78.78-.78 2.05 0 2.83L4 21.41c.39.39.9.59 1.41.59.51 0 1.02-.2 1.41-.59l7.78-7.78 2.81-2.81c.8-.78.8-2.07 0-2.86zM5.41 20L4 18.59l7.72-7.72 1.47 1.35L5.41 20z\"/>\n",
              "  </svg>\n",
              "      </button>\n",
              "      \n",
              "  <style>\n",
              "    .colab-df-container {\n",
              "      display:flex;\n",
              "      flex-wrap:wrap;\n",
              "      gap: 12px;\n",
              "    }\n",
              "\n",
              "    .colab-df-convert {\n",
              "      background-color: #E8F0FE;\n",
              "      border: none;\n",
              "      border-radius: 50%;\n",
              "      cursor: pointer;\n",
              "      display: none;\n",
              "      fill: #1967D2;\n",
              "      height: 32px;\n",
              "      padding: 0 0 0 0;\n",
              "      width: 32px;\n",
              "    }\n",
              "\n",
              "    .colab-df-convert:hover {\n",
              "      background-color: #E2EBFA;\n",
              "      box-shadow: 0px 1px 2px rgba(60, 64, 67, 0.3), 0px 1px 3px 1px rgba(60, 64, 67, 0.15);\n",
              "      fill: #174EA6;\n",
              "    }\n",
              "\n",
              "    [theme=dark] .colab-df-convert {\n",
              "      background-color: #3B4455;\n",
              "      fill: #D2E3FC;\n",
              "    }\n",
              "\n",
              "    [theme=dark] .colab-df-convert:hover {\n",
              "      background-color: #434B5C;\n",
              "      box-shadow: 0px 1px 3px 1px rgba(0, 0, 0, 0.15);\n",
              "      filter: drop-shadow(0px 1px 2px rgba(0, 0, 0, 0.3));\n",
              "      fill: #FFFFFF;\n",
              "    }\n",
              "  </style>\n",
              "\n",
              "      <script>\n",
              "        const buttonEl =\n",
              "          document.querySelector('#df-5da04c17-dc00-4258-8172-b9d1f89baac5 button.colab-df-convert');\n",
              "        buttonEl.style.display =\n",
              "          google.colab.kernel.accessAllowed ? 'block' : 'none';\n",
              "\n",
              "        async function convertToInteractive(key) {\n",
              "          const element = document.querySelector('#df-5da04c17-dc00-4258-8172-b9d1f89baac5');\n",
              "          const dataTable =\n",
              "            await google.colab.kernel.invokeFunction('convertToInteractive',\n",
              "                                                     [key], {});\n",
              "          if (!dataTable) return;\n",
              "\n",
              "          const docLinkHtml = 'Like what you see? Visit the ' +\n",
              "            '<a target=\"_blank\" href=https://colab.research.google.com/notebooks/data_table.ipynb>data table notebook</a>'\n",
              "            + ' to learn more about interactive tables.';\n",
              "          element.innerHTML = '';\n",
              "          dataTable['output_type'] = 'display_data';\n",
              "          await google.colab.output.renderOutput(dataTable, element);\n",
              "          const docLink = document.createElement('div');\n",
              "          docLink.innerHTML = docLinkHtml;\n",
              "          element.appendChild(docLink);\n",
              "        }\n",
              "      </script>\n",
              "    </div>\n",
              "  </div>\n",
              "  "
            ]
          },
          "metadata": {},
          "execution_count": 31
        }
      ],
      "source": [
        "dataset = pd.read_excel('yag_vize.xlsx') #excel dosyasını okuyoruz\n",
        "dataset #verisetine dair görünüm"
      ]
    },
    {
      "cell_type": "code",
      "source": [
        "dataset.to_csv('yag.csv', index=True) #excelden csv dosyasına dönüştürüyoruz"
      ],
      "metadata": {
        "id": "KNkIfyB1DObB"
      },
      "execution_count": null,
      "outputs": []
    },
    {
      "cell_type": "code",
      "source": [
        "df = pd.read_csv('yag.csv', sep=',') #csv dosyasını virgüllere göre ayırarak okuyoruz\n",
        "df.columns=[\"NUMARA\", \"CUMLELER\", \"ETIKETLER\"] #sütunları isimlendiriyoruz\n",
        "df.head()#Nesnemizin içerisinde doğru türde veri olup olmadığını hızlı bir şekilde test ediyoruz."
      ],
      "metadata": {
        "colab": {
          "base_uri": "https://localhost:8080/",
          "height": 206
        },
        "outputId": "adb6af62-8f7a-463b-b509-6f315a54073e",
        "id": "LDkbx3V0DT9i"
      },
      "execution_count": null,
      "outputs": [
        {
          "output_type": "execute_result",
          "data": {
            "text/plain": [
              "   NUMARA                                           CUMLELER ETIKETLER\n",
              "0       0  Sert sürekli bir yel sanki mavi göklerden yağı...        Y6\n",
              "1       1  Yaklaşan fırtınada yüzünü acımasızca ısıran su...        Y6\n",
              "2       2  Kuzey Okyanusunun balina gemilerinden çıkmış İ...        Y1\n",
              "3       3  Üzerine cehennem ateşleri yağdırır gibi bağırı...        Y6\n",
              "4       4  Kare şeklinde dizilmiş kulübelerin tam merkezi...        Y1"
            ],
            "text/html": [
              "\n",
              "  <div id=\"df-ea82c028-36b4-481a-9d55-5b9b861ad0bf\">\n",
              "    <div class=\"colab-df-container\">\n",
              "      <div>\n",
              "<style scoped>\n",
              "    .dataframe tbody tr th:only-of-type {\n",
              "        vertical-align: middle;\n",
              "    }\n",
              "\n",
              "    .dataframe tbody tr th {\n",
              "        vertical-align: top;\n",
              "    }\n",
              "\n",
              "    .dataframe thead th {\n",
              "        text-align: right;\n",
              "    }\n",
              "</style>\n",
              "<table border=\"1\" class=\"dataframe\">\n",
              "  <thead>\n",
              "    <tr style=\"text-align: right;\">\n",
              "      <th></th>\n",
              "      <th>NUMARA</th>\n",
              "      <th>CUMLELER</th>\n",
              "      <th>ETIKETLER</th>\n",
              "    </tr>\n",
              "  </thead>\n",
              "  <tbody>\n",
              "    <tr>\n",
              "      <th>0</th>\n",
              "      <td>0</td>\n",
              "      <td>Sert sürekli bir yel sanki mavi göklerden yağı...</td>\n",
              "      <td>Y6</td>\n",
              "    </tr>\n",
              "    <tr>\n",
              "      <th>1</th>\n",
              "      <td>1</td>\n",
              "      <td>Yaklaşan fırtınada yüzünü acımasızca ısıran su...</td>\n",
              "      <td>Y6</td>\n",
              "    </tr>\n",
              "    <tr>\n",
              "      <th>2</th>\n",
              "      <td>2</td>\n",
              "      <td>Kuzey Okyanusunun balina gemilerinden çıkmış İ...</td>\n",
              "      <td>Y1</td>\n",
              "    </tr>\n",
              "    <tr>\n",
              "      <th>3</th>\n",
              "      <td>3</td>\n",
              "      <td>Üzerine cehennem ateşleri yağdırır gibi bağırı...</td>\n",
              "      <td>Y6</td>\n",
              "    </tr>\n",
              "    <tr>\n",
              "      <th>4</th>\n",
              "      <td>4</td>\n",
              "      <td>Kare şeklinde dizilmiş kulübelerin tam merkezi...</td>\n",
              "      <td>Y1</td>\n",
              "    </tr>\n",
              "  </tbody>\n",
              "</table>\n",
              "</div>\n",
              "      <button class=\"colab-df-convert\" onclick=\"convertToInteractive('df-ea82c028-36b4-481a-9d55-5b9b861ad0bf')\"\n",
              "              title=\"Convert this dataframe to an interactive table.\"\n",
              "              style=\"display:none;\">\n",
              "        \n",
              "  <svg xmlns=\"http://www.w3.org/2000/svg\" height=\"24px\"viewBox=\"0 0 24 24\"\n",
              "       width=\"24px\">\n",
              "    <path d=\"M0 0h24v24H0V0z\" fill=\"none\"/>\n",
              "    <path d=\"M18.56 5.44l.94 2.06.94-2.06 2.06-.94-2.06-.94-.94-2.06-.94 2.06-2.06.94zm-11 1L8.5 8.5l.94-2.06 2.06-.94-2.06-.94L8.5 2.5l-.94 2.06-2.06.94zm10 10l.94 2.06.94-2.06 2.06-.94-2.06-.94-.94-2.06-.94 2.06-2.06.94z\"/><path d=\"M17.41 7.96l-1.37-1.37c-.4-.4-.92-.59-1.43-.59-.52 0-1.04.2-1.43.59L10.3 9.45l-7.72 7.72c-.78.78-.78 2.05 0 2.83L4 21.41c.39.39.9.59 1.41.59.51 0 1.02-.2 1.41-.59l7.78-7.78 2.81-2.81c.8-.78.8-2.07 0-2.86zM5.41 20L4 18.59l7.72-7.72 1.47 1.35L5.41 20z\"/>\n",
              "  </svg>\n",
              "      </button>\n",
              "      \n",
              "  <style>\n",
              "    .colab-df-container {\n",
              "      display:flex;\n",
              "      flex-wrap:wrap;\n",
              "      gap: 12px;\n",
              "    }\n",
              "\n",
              "    .colab-df-convert {\n",
              "      background-color: #E8F0FE;\n",
              "      border: none;\n",
              "      border-radius: 50%;\n",
              "      cursor: pointer;\n",
              "      display: none;\n",
              "      fill: #1967D2;\n",
              "      height: 32px;\n",
              "      padding: 0 0 0 0;\n",
              "      width: 32px;\n",
              "    }\n",
              "\n",
              "    .colab-df-convert:hover {\n",
              "      background-color: #E2EBFA;\n",
              "      box-shadow: 0px 1px 2px rgba(60, 64, 67, 0.3), 0px 1px 3px 1px rgba(60, 64, 67, 0.15);\n",
              "      fill: #174EA6;\n",
              "    }\n",
              "\n",
              "    [theme=dark] .colab-df-convert {\n",
              "      background-color: #3B4455;\n",
              "      fill: #D2E3FC;\n",
              "    }\n",
              "\n",
              "    [theme=dark] .colab-df-convert:hover {\n",
              "      background-color: #434B5C;\n",
              "      box-shadow: 0px 1px 3px 1px rgba(0, 0, 0, 0.15);\n",
              "      filter: drop-shadow(0px 1px 2px rgba(0, 0, 0, 0.3));\n",
              "      fill: #FFFFFF;\n",
              "    }\n",
              "  </style>\n",
              "\n",
              "      <script>\n",
              "        const buttonEl =\n",
              "          document.querySelector('#df-ea82c028-36b4-481a-9d55-5b9b861ad0bf button.colab-df-convert');\n",
              "        buttonEl.style.display =\n",
              "          google.colab.kernel.accessAllowed ? 'block' : 'none';\n",
              "\n",
              "        async function convertToInteractive(key) {\n",
              "          const element = document.querySelector('#df-ea82c028-36b4-481a-9d55-5b9b861ad0bf');\n",
              "          const dataTable =\n",
              "            await google.colab.kernel.invokeFunction('convertToInteractive',\n",
              "                                                     [key], {});\n",
              "          if (!dataTable) return;\n",
              "\n",
              "          const docLinkHtml = 'Like what you see? Visit the ' +\n",
              "            '<a target=\"_blank\" href=https://colab.research.google.com/notebooks/data_table.ipynb>data table notebook</a>'\n",
              "            + ' to learn more about interactive tables.';\n",
              "          element.innerHTML = '';\n",
              "          dataTable['output_type'] = 'display_data';\n",
              "          await google.colab.output.renderOutput(dataTable, element);\n",
              "          const docLink = document.createElement('div');\n",
              "          docLink.innerHTML = docLinkHtml;\n",
              "          element.appendChild(docLink);\n",
              "        }\n",
              "      </script>\n",
              "    </div>\n",
              "  </div>\n",
              "  "
            ]
          },
          "metadata": {},
          "execution_count": 33
        }
      ]
    },
    {
      "cell_type": "code",
      "source": [
        "for fn in df.keys():#verisetindeki sütun adlarına sahip bir index nesnesi döndürür.Index nesnesi, sütun adlarını liste öğeleri olarak içeren bir liste gibidir.\n",
        "  print('User uploaded file  \"{name}\" with length {length} bytes'.format(name=fn, length=len(df[fn])))#dosyadaki sütun adları ve bu sütunlar altındaki veri sayısı görüntülenir."
      ],
      "metadata": {
        "colab": {
          "base_uri": "https://localhost:8080/"
        },
        "outputId": "bfafbd3e-ce5a-417a-ae7e-2b6a779a6f34",
        "id": "0ouiBKCXDdOY"
      },
      "execution_count": null,
      "outputs": [
        {
          "output_type": "stream",
          "name": "stdout",
          "text": [
            "User uploaded file  \"NUMARA\" with length 5207 bytes\n",
            "User uploaded file  \"CUMLELER\" with length 5207 bytes\n",
            "User uploaded file  \"ETIKETLER\" with length 5207 bytes\n"
          ]
        }
      ]
    },
    {
      "cell_type": "code",
      "source": [
        "bool_series = pd.isnull(df['CUMLELER']) #cümleler arasında değer atanmamış etiket satırı varsa ilgili bilgileri bir diziye atıyoruz\n",
        "df[bool_series] #ardından gösteriyoruz"
      ],
      "metadata": {
        "colab": {
          "base_uri": "https://localhost:8080/",
          "height": 49
        },
        "id": "0I20VR31KzvL",
        "outputId": "ac0828ac-4e49-4880-e8ef-eaba5e46b6b3"
      },
      "execution_count": null,
      "outputs": [
        {
          "output_type": "execute_result",
          "data": {
            "text/plain": [
              "Empty DataFrame\n",
              "Columns: [NUMARA, CUMLELER, ETIKETLER]\n",
              "Index: []"
            ],
            "text/html": [
              "\n",
              "  <div id=\"df-0c97b996-8ef2-4cfe-ad26-f7748d5b9c24\">\n",
              "    <div class=\"colab-df-container\">\n",
              "      <div>\n",
              "<style scoped>\n",
              "    .dataframe tbody tr th:only-of-type {\n",
              "        vertical-align: middle;\n",
              "    }\n",
              "\n",
              "    .dataframe tbody tr th {\n",
              "        vertical-align: top;\n",
              "    }\n",
              "\n",
              "    .dataframe thead th {\n",
              "        text-align: right;\n",
              "    }\n",
              "</style>\n",
              "<table border=\"1\" class=\"dataframe\">\n",
              "  <thead>\n",
              "    <tr style=\"text-align: right;\">\n",
              "      <th></th>\n",
              "      <th>NUMARA</th>\n",
              "      <th>CUMLELER</th>\n",
              "      <th>ETIKETLER</th>\n",
              "    </tr>\n",
              "  </thead>\n",
              "  <tbody>\n",
              "  </tbody>\n",
              "</table>\n",
              "</div>\n",
              "      <button class=\"colab-df-convert\" onclick=\"convertToInteractive('df-0c97b996-8ef2-4cfe-ad26-f7748d5b9c24')\"\n",
              "              title=\"Convert this dataframe to an interactive table.\"\n",
              "              style=\"display:none;\">\n",
              "        \n",
              "  <svg xmlns=\"http://www.w3.org/2000/svg\" height=\"24px\"viewBox=\"0 0 24 24\"\n",
              "       width=\"24px\">\n",
              "    <path d=\"M0 0h24v24H0V0z\" fill=\"none\"/>\n",
              "    <path d=\"M18.56 5.44l.94 2.06.94-2.06 2.06-.94-2.06-.94-.94-2.06-.94 2.06-2.06.94zm-11 1L8.5 8.5l.94-2.06 2.06-.94-2.06-.94L8.5 2.5l-.94 2.06-2.06.94zm10 10l.94 2.06.94-2.06 2.06-.94-2.06-.94-.94-2.06-.94 2.06-2.06.94z\"/><path d=\"M17.41 7.96l-1.37-1.37c-.4-.4-.92-.59-1.43-.59-.52 0-1.04.2-1.43.59L10.3 9.45l-7.72 7.72c-.78.78-.78 2.05 0 2.83L4 21.41c.39.39.9.59 1.41.59.51 0 1.02-.2 1.41-.59l7.78-7.78 2.81-2.81c.8-.78.8-2.07 0-2.86zM5.41 20L4 18.59l7.72-7.72 1.47 1.35L5.41 20z\"/>\n",
              "  </svg>\n",
              "      </button>\n",
              "      \n",
              "  <style>\n",
              "    .colab-df-container {\n",
              "      display:flex;\n",
              "      flex-wrap:wrap;\n",
              "      gap: 12px;\n",
              "    }\n",
              "\n",
              "    .colab-df-convert {\n",
              "      background-color: #E8F0FE;\n",
              "      border: none;\n",
              "      border-radius: 50%;\n",
              "      cursor: pointer;\n",
              "      display: none;\n",
              "      fill: #1967D2;\n",
              "      height: 32px;\n",
              "      padding: 0 0 0 0;\n",
              "      width: 32px;\n",
              "    }\n",
              "\n",
              "    .colab-df-convert:hover {\n",
              "      background-color: #E2EBFA;\n",
              "      box-shadow: 0px 1px 2px rgba(60, 64, 67, 0.3), 0px 1px 3px 1px rgba(60, 64, 67, 0.15);\n",
              "      fill: #174EA6;\n",
              "    }\n",
              "\n",
              "    [theme=dark] .colab-df-convert {\n",
              "      background-color: #3B4455;\n",
              "      fill: #D2E3FC;\n",
              "    }\n",
              "\n",
              "    [theme=dark] .colab-df-convert:hover {\n",
              "      background-color: #434B5C;\n",
              "      box-shadow: 0px 1px 3px 1px rgba(0, 0, 0, 0.15);\n",
              "      filter: drop-shadow(0px 1px 2px rgba(0, 0, 0, 0.3));\n",
              "      fill: #FFFFFF;\n",
              "    }\n",
              "  </style>\n",
              "\n",
              "      <script>\n",
              "        const buttonEl =\n",
              "          document.querySelector('#df-0c97b996-8ef2-4cfe-ad26-f7748d5b9c24 button.colab-df-convert');\n",
              "        buttonEl.style.display =\n",
              "          google.colab.kernel.accessAllowed ? 'block' : 'none';\n",
              "\n",
              "        async function convertToInteractive(key) {\n",
              "          const element = document.querySelector('#df-0c97b996-8ef2-4cfe-ad26-f7748d5b9c24');\n",
              "          const dataTable =\n",
              "            await google.colab.kernel.invokeFunction('convertToInteractive',\n",
              "                                                     [key], {});\n",
              "          if (!dataTable) return;\n",
              "\n",
              "          const docLinkHtml = 'Like what you see? Visit the ' +\n",
              "            '<a target=\"_blank\" href=https://colab.research.google.com/notebooks/data_table.ipynb>data table notebook</a>'\n",
              "            + ' to learn more about interactive tables.';\n",
              "          element.innerHTML = '';\n",
              "          dataTable['output_type'] = 'display_data';\n",
              "          await google.colab.output.renderOutput(dataTable, element);\n",
              "          const docLink = document.createElement('div');\n",
              "          docLink.innerHTML = docLinkHtml;\n",
              "          element.appendChild(docLink);\n",
              "        }\n",
              "      </script>\n",
              "    </div>\n",
              "  </div>\n",
              "  "
            ]
          },
          "metadata": {},
          "execution_count": 35
        }
      ]
    },
    {
      "cell_type": "code",
      "source": [
        "bool_series = pd.isnull(df['ETIKETLER']) #etiketler arasında değer atanmamış veri satırı varsa ilgili bilgileri bir diziye atıyoruz\n",
        "df[bool_series] #ardından gösteriyoruz"
      ],
      "metadata": {
        "colab": {
          "base_uri": "https://localhost:8080/",
          "height": 49
        },
        "outputId": "7d534721-2dee-46d2-f795-72102be39902",
        "id": "ZEU916zEGSP2"
      },
      "execution_count": null,
      "outputs": [
        {
          "output_type": "execute_result",
          "data": {
            "text/plain": [
              "Empty DataFrame\n",
              "Columns: [NUMARA, CUMLELER, ETIKETLER]\n",
              "Index: []"
            ],
            "text/html": [
              "\n",
              "  <div id=\"df-81b1b6e1-b2ec-473c-a8ed-1adb5efdde6e\">\n",
              "    <div class=\"colab-df-container\">\n",
              "      <div>\n",
              "<style scoped>\n",
              "    .dataframe tbody tr th:only-of-type {\n",
              "        vertical-align: middle;\n",
              "    }\n",
              "\n",
              "    .dataframe tbody tr th {\n",
              "        vertical-align: top;\n",
              "    }\n",
              "\n",
              "    .dataframe thead th {\n",
              "        text-align: right;\n",
              "    }\n",
              "</style>\n",
              "<table border=\"1\" class=\"dataframe\">\n",
              "  <thead>\n",
              "    <tr style=\"text-align: right;\">\n",
              "      <th></th>\n",
              "      <th>NUMARA</th>\n",
              "      <th>CUMLELER</th>\n",
              "      <th>ETIKETLER</th>\n",
              "    </tr>\n",
              "  </thead>\n",
              "  <tbody>\n",
              "  </tbody>\n",
              "</table>\n",
              "</div>\n",
              "      <button class=\"colab-df-convert\" onclick=\"convertToInteractive('df-81b1b6e1-b2ec-473c-a8ed-1adb5efdde6e')\"\n",
              "              title=\"Convert this dataframe to an interactive table.\"\n",
              "              style=\"display:none;\">\n",
              "        \n",
              "  <svg xmlns=\"http://www.w3.org/2000/svg\" height=\"24px\"viewBox=\"0 0 24 24\"\n",
              "       width=\"24px\">\n",
              "    <path d=\"M0 0h24v24H0V0z\" fill=\"none\"/>\n",
              "    <path d=\"M18.56 5.44l.94 2.06.94-2.06 2.06-.94-2.06-.94-.94-2.06-.94 2.06-2.06.94zm-11 1L8.5 8.5l.94-2.06 2.06-.94-2.06-.94L8.5 2.5l-.94 2.06-2.06.94zm10 10l.94 2.06.94-2.06 2.06-.94-2.06-.94-.94-2.06-.94 2.06-2.06.94z\"/><path d=\"M17.41 7.96l-1.37-1.37c-.4-.4-.92-.59-1.43-.59-.52 0-1.04.2-1.43.59L10.3 9.45l-7.72 7.72c-.78.78-.78 2.05 0 2.83L4 21.41c.39.39.9.59 1.41.59.51 0 1.02-.2 1.41-.59l7.78-7.78 2.81-2.81c.8-.78.8-2.07 0-2.86zM5.41 20L4 18.59l7.72-7.72 1.47 1.35L5.41 20z\"/>\n",
              "  </svg>\n",
              "      </button>\n",
              "      \n",
              "  <style>\n",
              "    .colab-df-container {\n",
              "      display:flex;\n",
              "      flex-wrap:wrap;\n",
              "      gap: 12px;\n",
              "    }\n",
              "\n",
              "    .colab-df-convert {\n",
              "      background-color: #E8F0FE;\n",
              "      border: none;\n",
              "      border-radius: 50%;\n",
              "      cursor: pointer;\n",
              "      display: none;\n",
              "      fill: #1967D2;\n",
              "      height: 32px;\n",
              "      padding: 0 0 0 0;\n",
              "      width: 32px;\n",
              "    }\n",
              "\n",
              "    .colab-df-convert:hover {\n",
              "      background-color: #E2EBFA;\n",
              "      box-shadow: 0px 1px 2px rgba(60, 64, 67, 0.3), 0px 1px 3px 1px rgba(60, 64, 67, 0.15);\n",
              "      fill: #174EA6;\n",
              "    }\n",
              "\n",
              "    [theme=dark] .colab-df-convert {\n",
              "      background-color: #3B4455;\n",
              "      fill: #D2E3FC;\n",
              "    }\n",
              "\n",
              "    [theme=dark] .colab-df-convert:hover {\n",
              "      background-color: #434B5C;\n",
              "      box-shadow: 0px 1px 3px 1px rgba(0, 0, 0, 0.15);\n",
              "      filter: drop-shadow(0px 1px 2px rgba(0, 0, 0, 0.3));\n",
              "      fill: #FFFFFF;\n",
              "    }\n",
              "  </style>\n",
              "\n",
              "      <script>\n",
              "        const buttonEl =\n",
              "          document.querySelector('#df-81b1b6e1-b2ec-473c-a8ed-1adb5efdde6e button.colab-df-convert');\n",
              "        buttonEl.style.display =\n",
              "          google.colab.kernel.accessAllowed ? 'block' : 'none';\n",
              "\n",
              "        async function convertToInteractive(key) {\n",
              "          const element = document.querySelector('#df-81b1b6e1-b2ec-473c-a8ed-1adb5efdde6e');\n",
              "          const dataTable =\n",
              "            await google.colab.kernel.invokeFunction('convertToInteractive',\n",
              "                                                     [key], {});\n",
              "          if (!dataTable) return;\n",
              "\n",
              "          const docLinkHtml = 'Like what you see? Visit the ' +\n",
              "            '<a target=\"_blank\" href=https://colab.research.google.com/notebooks/data_table.ipynb>data table notebook</a>'\n",
              "            + ' to learn more about interactive tables.';\n",
              "          element.innerHTML = '';\n",
              "          dataTable['output_type'] = 'display_data';\n",
              "          await google.colab.output.renderOutput(dataTable, element);\n",
              "          const docLink = document.createElement('div');\n",
              "          docLink.innerHTML = docLinkHtml;\n",
              "          element.appendChild(docLink);\n",
              "        }\n",
              "      </script>\n",
              "    </div>\n",
              "  </div>\n",
              "  "
            ]
          },
          "metadata": {},
          "execution_count": 36
        }
      ]
    },
    {
      "cell_type": "code",
      "source": [
        "label_distribution = df['ETIKETLER'].value_counts()\n",
        "names = ['Y1', 'Y2', 'Y3', 'Y4', 'Y5', 'Y6']\n",
        "values = [label_distribution[0], label_distribution[1], label_distribution[2], label_distribution[3], label_distribution[4], label_distribution[5]]\n",
        "\n",
        "plt.figure(figsize=(10, 6))\n",
        "plt.subplot(131)\n",
        "plt.bar(names, values)\n",
        "plt.suptitle('Etiket Dağılımları')\n",
        "plt.ylabel('Etiket Sayısı')\n",
        "plt.show() #verisetindeki etiket dağılımlarını gösteriyoruz"
      ],
      "metadata": {
        "colab": {
          "base_uri": "https://localhost:8080/",
          "height": 417
        },
        "outputId": "06f04cab-42f7-4662-81b0-a6fe936fa629",
        "id": "sZL8oYV0EGZI"
      },
      "execution_count": null,
      "outputs": [
        {
          "output_type": "display_data",
          "data": {
            "text/plain": [
              "<Figure size 720x432 with 1 Axes>"
            ],
            "image/png": "[encoded data removed]"
          },
          "metadata": {
            "needs_background": "light"
          }
        }
      ]
    },
    {
      "cell_type": "code",
      "source": [
        "X=df[['CUMLELER']]\n",
        "y=df['ETIKETLER']"
      ],
      "metadata": {
        "id": "o-S2duZlEqCR"
      },
      "execution_count": null,
      "outputs": []
    },
    {
      "cell_type": "code",
      "source": [
        "X=df['CUMLELER']#Verisetinde cümlelerin yer aldığı sütun X değişkeninde saklanıyor\n",
        "y=df['ETIKETLER']#Verisetinde etiketlerin  yer aldığı sütun Y değişkeninde saklanıyor\n",
        "\n",
        "X_train, X_test, y_train, y_test = train_test_split(X, y, test_size=0.30, random_state=42) #verisetini %70 eğitim %30 test olarak ayırıyoruz"
      ],
      "metadata": {
        "id": "-viUZcvVEuRn"
      },
      "execution_count": null,
      "outputs": []
    },
    {
      "cell_type": "code",
      "source": [
        "count_vect=CountVectorizer()\n",
        "X_train_counts = count_vect.fit_transform(X_train)\n",
        "##Burada eğitim için metin verilerinin vektörleşmesi gerekiyor.Bunun için CountVectorizer kullanılıyor."
      ],
      "metadata": {
        "id": "X9rTqIDCE3Rx"
      },
      "execution_count": null,
      "outputs": []
    },
    {
      "cell_type": "code",
      "source": [
        "tfidf_transformer = TfidfTransformer()\n",
        "X_train_tfidf=tfidf_transformer.fit_transform(X_train_counts)\n",
        "#vektörlerden oluşan verinin TFIDF featurelara dönüşümü vardır.\n",
        "#kelimelerden oluşan verilerin sayısal veriye dönüşümü için 2 yöntem kullanılır:Bag of Words ve Embedding Model. Burada verilerin bag of words yöntemi ile değil de direkt TFIDF featurelara dönüşümü TfidTransformer() ile sağlanmıştır."
      ],
      "metadata": {
        "id": "KvUQN0w0E8lb"
      },
      "execution_count": null,
      "outputs": []
    },
    {
      "cell_type": "code",
      "source": [
        "from sklearn.pipeline import Pipeline\n",
        "from sklearn .feature_extraction.text import TfidfVectorizer\n",
        "from sklearn.neighbors import KNeighborsClassifier\n",
        "\n",
        "text_clf = Pipeline([('tfidf',TfidfVectorizer()),\n",
        "                     ('clf',KNeighborsClassifier(n_neighbors=5)),])\n",
        "text_clf.fit(X_train, y_train)\n",
        "#giriş verilerini bir TF-IDF özellikleri matrisine dönüştüren ve KNN sınıflandırıcı kullanarak test verilerini sınıflandıran basit bir Pipeline nesnesi oluşturuyoruz.\n",
        "#Daha sonra tüm pipeline fit edilir ve test verilerini tahmin edebiliriz. Sıralı tahmin ediciler oluşturulmuş olur."
      ],
      "metadata": {
        "colab": {
          "base_uri": "https://localhost:8080/"
        },
        "outputId": "147216dc-c0cc-48e8-88ba-fd1878f08644",
        "id": "Znoc5BcFFB4Z"
      },
      "execution_count": null,
      "outputs": [
        {
          "output_type": "execute_result",
          "data": {
            "text/plain": [
              "Pipeline(steps=[('tfidf', TfidfVectorizer()), ('clf', KNeighborsClassifier())])"
            ]
          },
          "metadata": {},
          "execution_count": 42
        }
      ]
    },
    {
      "cell_type": "code",
      "source": [
        "predictions = text_clf.predict(X_test)\n",
        "#test veriseti kullanılarak tahmin gerçekleştirilir."
      ],
      "metadata": {
        "id": "aenyNGIuFEx4"
      },
      "execution_count": null,
      "outputs": []
    },
    {
      "cell_type": "code",
      "source": [
        "print(metrics.confusion_matrix(y_test,predictions))\n",
        "#Yaptığımız sınıflandırmanın doğruluğunu kontrol etme yöntemlerinden birisi de hata matrisi oluşturmaktır. Hata matrisi için scikit-learn kütüphanesi metrics modülü confusion_matrix fonksiyonunu kullanıyoruz.\n",
        "#burada 127 yanlış 930 doğru sınıflandırma yapıldığını görüyoruz."
      ],
      "metadata": {
        "colab": {
          "base_uri": "https://localhost:8080/"
        },
        "outputId": "5ad0454b-24bf-4202-cb59-93465c6eb5c7",
        "id": "pvmAKhJtFIoZ"
      },
      "execution_count": null,
      "outputs": [
        {
          "output_type": "stream",
          "name": "stdout",
          "text": [
            "[[307  31  17  20   1  67]\n",
            " [ 69  80   4   7   1  54]\n",
            " [ 43   7  18   5   0  24]\n",
            " [ 40  15   6  50   1   6]\n",
            " [ 17   3   1   2  18  37]\n",
            " [ 29   7   6   5  10 555]]\n"
          ]
        }
      ]
    },
    {
      "cell_type": "code",
      "source": [
        "print(metrics.classification_report(y_test,predictions))\n",
        "#Sınıflandırma raporu oluşturulur\n",
        "#presicion:(kesinlik)Tahminlerin yüzde kaçı doğru çıkmıştır,bunu gösterir.Pozitif olarak tahminlediğimiz değerlerin gerçekten kaç adedinin pozitif olduğunu göstermektedir.\n",
        "#recall(duyarlılık): bir sınıflandırıcının tüm pozitif örnekleri bulma yeteneğidir. Her sınıf için, gerçek pozitiflerin, gerçek pozitiflerin ve yanlış negatiflerin toplamına oranı olarak tanımlanır.\n",
        "#f1-score:Pozitif tahminlerin yüzde kaçının doğru olduğunu gösterir.Kesinlik ve duyarlılığın harmonik ortalmasıdır."
      ],
      "metadata": {
        "colab": {
          "base_uri": "https://localhost:8080/"
        },
        "outputId": "62d0d444-c4fd-47f8-ded0-96368dfa92dc",
        "id": "lpbienouFTwf"
      },
      "execution_count": null,
      "outputs": [
        {
          "output_type": "stream",
          "name": "stdout",
          "text": [
            "              precision    recall  f1-score   support\n",
            "\n",
            "          Y1       0.61      0.69      0.65       443\n",
            "          Y2       0.56      0.37      0.45       215\n",
            "          Y3       0.35      0.19      0.24        97\n",
            "          Y4       0.56      0.42      0.48       118\n",
            "          Y5       0.58      0.23      0.33        78\n",
            "          Y6       0.75      0.91      0.82       612\n",
            "\n",
            "    accuracy                           0.66      1563\n",
            "   macro avg       0.57      0.47      0.49      1563\n",
            "weighted avg       0.63      0.66      0.63      1563\n",
            "\n"
          ]
        }
      ]
    },
    {
      "cell_type": "code",
      "source": [
        "print(metrics.accuracy_score(y_test,predictions))\n",
        "#Çok etiketli sınıflandırmada, accuracy score küme doğruluğunu hesaplar: bir numune için tahmin edilen etiket kümesi, y_true içindeki karşılık gelen etiket kümesiyle tam olarak eşleşmelidir."
      ],
      "metadata": {
        "colab": {
          "base_uri": "https://localhost:8080/"
        },
        "outputId": "e7ad36ef-8bbd-4164-d909-bb9792f7931d",
        "id": "oMcY9X6jFYWo"
      },
      "execution_count": null,
      "outputs": [
        {
          "output_type": "stream",
          "name": "stdout",
          "text": [
            "0.6577095329494562\n"
          ]
        }
      ]
    },
    {
      "cell_type": "markdown",
      "source": [
        "**%70 Test Olarak Ayrılırsa Yağ Verisetiyle Sınıflandırma**"
      ],
      "metadata": {
        "id": "rq_bNzNjNgCJ"
      }
    },
    {
      "cell_type": "code",
      "execution_count": null,
      "metadata": {
        "colab": {
          "base_uri": "https://localhost:8080/",
          "height": 424
        },
        "outputId": "2518cd6d-c3ec-4043-a3f9-8b12d12a621b",
        "id": "lNnK-LlmOAkE"
      },
      "outputs": [
        {
          "output_type": "execute_result",
          "data": {
            "text/plain": [
              "     Joe Saul ile Ed arkalarında yağan kar ile eşikte durmuş üstlerini başlarını silkiyorlardı  \\\n",
              "0     Sert sürekli bir yel sanki mavi göklerden yağı...                                          \n",
              "1     Yaklaşan fırtınada yüzünü acımasızca ısıran su...                                          \n",
              "2     Kuzey Okyanusunun balina gemilerinden çıkmış İ...                                          \n",
              "3     Üzerine cehennem ateşleri yağdırır gibi bağırı...                                          \n",
              "4     Kare şeklinde dizilmiş kulübelerin tam merkezi...                                          \n",
              "...                                                 ...                                          \n",
              "5202  Ölüden toprağa karışan yağ bir çok insana besi...                                          \n",
              "5203   Yağlı bir iş bulmuş torpili içeriden ayarlamıştı                                          \n",
              "5204  Üstümüzdeki gök olmasa göktaşları başımıza yağ...                                          \n",
              "5205  Buralara kışın öyle bir kar yağar ki insan boy...                                          \n",
              "5206  Bütün gece sıkışan yağlarım etlerim korseyi aç...                                          \n",
              "\n",
              "      Y6  \n",
              "0     Y6  \n",
              "1     Y6  \n",
              "2     Y1  \n",
              "3     Y6  \n",
              "4     Y1  \n",
              "...   ..  \n",
              "5202  Y3  \n",
              "5203  Y5  \n",
              "5204  Y6  \n",
              "5205  Y6  \n",
              "5206  Y3  \n",
              "\n",
              "[5207 rows x 2 columns]"
            ],
            "text/html": [
              "\n",
              "  <div id=\"df-d36ac3b6-a5b5-4951-a7e4-88555d6e57b9\">\n",
              "    <div class=\"colab-df-container\">\n",
              "      <div>\n",
              "<style scoped>\n",
              "    .dataframe tbody tr th:only-of-type {\n",
              "        vertical-align: middle;\n",
              "    }\n",
              "\n",
              "    .dataframe tbody tr th {\n",
              "        vertical-align: top;\n",
              "    }\n",
              "\n",
              "    .dataframe thead th {\n",
              "        text-align: right;\n",
              "    }\n",
              "</style>\n",
              "<table border=\"1\" class=\"dataframe\">\n",
              "  <thead>\n",
              "    <tr style=\"text-align: right;\">\n",
              "      <th></th>\n",
              "      <th>Joe Saul ile Ed arkalarında yağan kar ile eşikte durmuş üstlerini başlarını silkiyorlardı</th>\n",
              "      <th>Y6</th>\n",
              "    </tr>\n",
              "  </thead>\n",
              "  <tbody>\n",
              "    <tr>\n",
              "      <th>0</th>\n",
              "      <td>Sert sürekli bir yel sanki mavi göklerden yağı...</td>\n",
              "      <td>Y6</td>\n",
              "    </tr>\n",
              "    <tr>\n",
              "      <th>1</th>\n",
              "      <td>Yaklaşan fırtınada yüzünü acımasızca ısıran su...</td>\n",
              "      <td>Y6</td>\n",
              "    </tr>\n",
              "    <tr>\n",
              "      <th>2</th>\n",
              "      <td>Kuzey Okyanusunun balina gemilerinden çıkmış İ...</td>\n",
              "      <td>Y1</td>\n",
              "    </tr>\n",
              "    <tr>\n",
              "      <th>3</th>\n",
              "      <td>Üzerine cehennem ateşleri yağdırır gibi bağırı...</td>\n",
              "      <td>Y6</td>\n",
              "    </tr>\n",
              "    <tr>\n",
              "      <th>4</th>\n",
              "      <td>Kare şeklinde dizilmiş kulübelerin tam merkezi...</td>\n",
              "      <td>Y1</td>\n",
              "    </tr>\n",
              "    <tr>\n",
              "      <th>...</th>\n",
              "      <td>...</td>\n",
              "      <td>...</td>\n",
              "    </tr>\n",
              "    <tr>\n",
              "      <th>5202</th>\n",
              "      <td>Ölüden toprağa karışan yağ bir çok insana besi...</td>\n",
              "      <td>Y3</td>\n",
              "    </tr>\n",
              "    <tr>\n",
              "      <th>5203</th>\n",
              "      <td>Yağlı bir iş bulmuş torpili içeriden ayarlamıştı</td>\n",
              "      <td>Y5</td>\n",
              "    </tr>\n",
              "    <tr>\n",
              "      <th>5204</th>\n",
              "      <td>Üstümüzdeki gök olmasa göktaşları başımıza yağ...</td>\n",
              "      <td>Y6</td>\n",
              "    </tr>\n",
              "    <tr>\n",
              "      <th>5205</th>\n",
              "      <td>Buralara kışın öyle bir kar yağar ki insan boy...</td>\n",
              "      <td>Y6</td>\n",
              "    </tr>\n",
              "    <tr>\n",
              "      <th>5206</th>\n",
              "      <td>Bütün gece sıkışan yağlarım etlerim korseyi aç...</td>\n",
              "      <td>Y3</td>\n",
              "    </tr>\n",
              "  </tbody>\n",
              "</table>\n",
              "<p>5207 rows × 2 columns</p>\n",
              "</div>\n",
              "      <button class=\"colab-df-convert\" onclick=\"convertToInteractive('df-d36ac3b6-a5b5-4951-a7e4-88555d6e57b9')\"\n",
              "              title=\"Convert this dataframe to an interactive table.\"\n",
              "              style=\"display:none;\">\n",
              "        \n",
              "  <svg xmlns=\"http://www.w3.org/2000/svg\" height=\"24px\"viewBox=\"0 0 24 24\"\n",
              "       width=\"24px\">\n",
              "    <path d=\"M0 0h24v24H0V0z\" fill=\"none\"/>\n",
              "    <path d=\"M18.56 5.44l.94 2.06.94-2.06 2.06-.94-2.06-.94-.94-2.06-.94 2.06-2.06.94zm-11 1L8.5 8.5l.94-2.06 2.06-.94-2.06-.94L8.5 2.5l-.94 2.06-2.06.94zm10 10l.94 2.06.94-2.06 2.06-.94-2.06-.94-.94-2.06-.94 2.06-2.06.94z\"/><path d=\"M17.41 7.96l-1.37-1.37c-.4-.4-.92-.59-1.43-.59-.52 0-1.04.2-1.43.59L10.3 9.45l-7.72 7.72c-.78.78-.78 2.05 0 2.83L4 21.41c.39.39.9.59 1.41.59.51 0 1.02-.2 1.41-.59l7.78-7.78 2.81-2.81c.8-.78.8-2.07 0-2.86zM5.41 20L4 18.59l7.72-7.72 1.47 1.35L5.41 20z\"/>\n",
              "  </svg>\n",
              "      </button>\n",
              "      \n",
              "  <style>\n",
              "    .colab-df-container {\n",
              "      display:flex;\n",
              "      flex-wrap:wrap;\n",
              "      gap: 12px;\n",
              "    }\n",
              "\n",
              "    .colab-df-convert {\n",
              "      background-color: #E8F0FE;\n",
              "      border: none;\n",
              "      border-radius: 50%;\n",
              "      cursor: pointer;\n",
              "      display: none;\n",
              "      fill: #1967D2;\n",
              "      height: 32px;\n",
              "      padding: 0 0 0 0;\n",
              "      width: 32px;\n",
              "    }\n",
              "\n",
              "    .colab-df-convert:hover {\n",
              "      background-color: #E2EBFA;\n",
              "      box-shadow: 0px 1px 2px rgba(60, 64, 67, 0.3), 0px 1px 3px 1px rgba(60, 64, 67, 0.15);\n",
              "      fill: #174EA6;\n",
              "    }\n",
              "\n",
              "    [theme=dark] .colab-df-convert {\n",
              "      background-color: #3B4455;\n",
              "      fill: #D2E3FC;\n",
              "    }\n",
              "\n",
              "    [theme=dark] .colab-df-convert:hover {\n",
              "      background-color: #434B5C;\n",
              "      box-shadow: 0px 1px 3px 1px rgba(0, 0, 0, 0.15);\n",
              "      filter: drop-shadow(0px 1px 2px rgba(0, 0, 0, 0.3));\n",
              "      fill: #FFFFFF;\n",
              "    }\n",
              "  </style>\n",
              "\n",
              "      <script>\n",
              "        const buttonEl =\n",
              "          document.querySelector('#df-d36ac3b6-a5b5-4951-a7e4-88555d6e57b9 button.colab-df-convert');\n",
              "        buttonEl.style.display =\n",
              "          google.colab.kernel.accessAllowed ? 'block' : 'none';\n",
              "\n",
              "        async function convertToInteractive(key) {\n",
              "          const element = document.querySelector('#df-d36ac3b6-a5b5-4951-a7e4-88555d6e57b9');\n",
              "          const dataTable =\n",
              "            await google.colab.kernel.invokeFunction('convertToInteractive',\n",
              "                                                     [key], {});\n",
              "          if (!dataTable) return;\n",
              "\n",
              "          const docLinkHtml = 'Like what you see? Visit the ' +\n",
              "            '<a target=\"_blank\" href=https://colab.research.google.com/notebooks/data_table.ipynb>data table notebook</a>'\n",
              "            + ' to learn more about interactive tables.';\n",
              "          element.innerHTML = '';\n",
              "          dataTable['output_type'] = 'display_data';\n",
              "          await google.colab.output.renderOutput(dataTable, element);\n",
              "          const docLink = document.createElement('div');\n",
              "          docLink.innerHTML = docLinkHtml;\n",
              "          element.appendChild(docLink);\n",
              "        }\n",
              "      </script>\n",
              "    </div>\n",
              "  </div>\n",
              "  "
            ]
          },
          "metadata": {},
          "execution_count": 47
        }
      ],
      "source": [
        "dataset = pd.read_excel('yag_vize.xlsx') #excel dosyasını okuyoruz\n",
        "dataset #verisetine dair görünüm"
      ]
    },
    {
      "cell_type": "code",
      "source": [
        "dataset.to_csv('yag.csv', index=True) #excelden csv dosyasına dönüştürüyoruz"
      ],
      "metadata": {
        "id": "4day_Cf7OFUc"
      },
      "execution_count": null,
      "outputs": []
    },
    {
      "cell_type": "code",
      "source": [
        "df = pd.read_csv('yag.csv', sep=',') #csv dosyasını virgüllere göre ayırarak okuyoruz\n",
        "df.columns=[\"NUMARA\", \"CUMLELER\", \"ETIKETLER\"] #sütunları isimlendiriyoruz\n",
        "df.head()#Nesnemizin içerisinde doğru türde veri olup olmadığını hızlı bir şekilde test ediyoruz."
      ],
      "metadata": {
        "colab": {
          "base_uri": "https://localhost:8080/",
          "height": 206
        },
        "outputId": "6f265384-cd38-4d32-c0c0-b7075df642a1",
        "id": "98v8f0HvOKKQ"
      },
      "execution_count": null,
      "outputs": [
        {
          "output_type": "execute_result",
          "data": {
            "text/plain": [
              "   NUMARA                                           CUMLELER ETIKETLER\n",
              "0       0  Sert sürekli bir yel sanki mavi göklerden yağı...        Y6\n",
              "1       1  Yaklaşan fırtınada yüzünü acımasızca ısıran su...        Y6\n",
              "2       2  Kuzey Okyanusunun balina gemilerinden çıkmış İ...        Y1\n",
              "3       3  Üzerine cehennem ateşleri yağdırır gibi bağırı...        Y6\n",
              "4       4  Kare şeklinde dizilmiş kulübelerin tam merkezi...        Y1"
            ],
            "text/html": [
              "\n",
              "  <div id=\"df-6b5843cd-b4fe-408e-9dca-7fdeca354df5\">\n",
              "    <div class=\"colab-df-container\">\n",
              "      <div>\n",
              "<style scoped>\n",
              "    .dataframe tbody tr th:only-of-type {\n",
              "        vertical-align: middle;\n",
              "    }\n",
              "\n",
              "    .dataframe tbody tr th {\n",
              "        vertical-align: top;\n",
              "    }\n",
              "\n",
              "    .dataframe thead th {\n",
              "        text-align: right;\n",
              "    }\n",
              "</style>\n",
              "<table border=\"1\" class=\"dataframe\">\n",
              "  <thead>\n",
              "    <tr style=\"text-align: right;\">\n",
              "      <th></th>\n",
              "      <th>NUMARA</th>\n",
              "      <th>CUMLELER</th>\n",
              "      <th>ETIKETLER</th>\n",
              "    </tr>\n",
              "  </thead>\n",
              "  <tbody>\n",
              "    <tr>\n",
              "      <th>0</th>\n",
              "      <td>0</td>\n",
              "      <td>Sert sürekli bir yel sanki mavi göklerden yağı...</td>\n",
              "      <td>Y6</td>\n",
              "    </tr>\n",
              "    <tr>\n",
              "      <th>1</th>\n",
              "      <td>1</td>\n",
              "      <td>Yaklaşan fırtınada yüzünü acımasızca ısıran su...</td>\n",
              "      <td>Y6</td>\n",
              "    </tr>\n",
              "    <tr>\n",
              "      <th>2</th>\n",
              "      <td>2</td>\n",
              "      <td>Kuzey Okyanusunun balina gemilerinden çıkmış İ...</td>\n",
              "      <td>Y1</td>\n",
              "    </tr>\n",
              "    <tr>\n",
              "      <th>3</th>\n",
              "      <td>3</td>\n",
              "      <td>Üzerine cehennem ateşleri yağdırır gibi bağırı...</td>\n",
              "      <td>Y6</td>\n",
              "    </tr>\n",
              "    <tr>\n",
              "      <th>4</th>\n",
              "      <td>4</td>\n",
              "      <td>Kare şeklinde dizilmiş kulübelerin tam merkezi...</td>\n",
              "      <td>Y1</td>\n",
              "    </tr>\n",
              "  </tbody>\n",
              "</table>\n",
              "</div>\n",
              "      <button class=\"colab-df-convert\" onclick=\"convertToInteractive('df-6b5843cd-b4fe-408e-9dca-7fdeca354df5')\"\n",
              "              title=\"Convert this dataframe to an interactive table.\"\n",
              "              style=\"display:none;\">\n",
              "        \n",
              "  <svg xmlns=\"http://www.w3.org/2000/svg\" height=\"24px\"viewBox=\"0 0 24 24\"\n",
              "       width=\"24px\">\n",
              "    <path d=\"M0 0h24v24H0V0z\" fill=\"none\"/>\n",
              "    <path d=\"M18.56 5.44l.94 2.06.94-2.06 2.06-.94-2.06-.94-.94-2.06-.94 2.06-2.06.94zm-11 1L8.5 8.5l.94-2.06 2.06-.94-2.06-.94L8.5 2.5l-.94 2.06-2.06.94zm10 10l.94 2.06.94-2.06 2.06-.94-2.06-.94-.94-2.06-.94 2.06-2.06.94z\"/><path d=\"M17.41 7.96l-1.37-1.37c-.4-.4-.92-.59-1.43-.59-.52 0-1.04.2-1.43.59L10.3 9.45l-7.72 7.72c-.78.78-.78 2.05 0 2.83L4 21.41c.39.39.9.59 1.41.59.51 0 1.02-.2 1.41-.59l7.78-7.78 2.81-2.81c.8-.78.8-2.07 0-2.86zM5.41 20L4 18.59l7.72-7.72 1.47 1.35L5.41 20z\"/>\n",
              "  </svg>\n",
              "      </button>\n",
              "      \n",
              "  <style>\n",
              "    .colab-df-container {\n",
              "      display:flex;\n",
              "      flex-wrap:wrap;\n",
              "      gap: 12px;\n",
              "    }\n",
              "\n",
              "    .colab-df-convert {\n",
              "      background-color: #E8F0FE;\n",
              "      border: none;\n",
              "      border-radius: 50%;\n",
              "      cursor: pointer;\n",
              "      display: none;\n",
              "      fill: #1967D2;\n",
              "      height: 32px;\n",
              "      padding: 0 0 0 0;\n",
              "      width: 32px;\n",
              "    }\n",
              "\n",
              "    .colab-df-convert:hover {\n",
              "      background-color: #E2EBFA;\n",
              "      box-shadow: 0px 1px 2px rgba(60, 64, 67, 0.3), 0px 1px 3px 1px rgba(60, 64, 67, 0.15);\n",
              "      fill: #174EA6;\n",
              "    }\n",
              "\n",
              "    [theme=dark] .colab-df-convert {\n",
              "      background-color: #3B4455;\n",
              "      fill: #D2E3FC;\n",
              "    }\n",
              "\n",
              "    [theme=dark] .colab-df-convert:hover {\n",
              "      background-color: #434B5C;\n",
              "      box-shadow: 0px 1px 3px 1px rgba(0, 0, 0, 0.15);\n",
              "      filter: drop-shadow(0px 1px 2px rgba(0, 0, 0, 0.3));\n",
              "      fill: #FFFFFF;\n",
              "    }\n",
              "  </style>\n",
              "\n",
              "      <script>\n",
              "        const buttonEl =\n",
              "          document.querySelector('#df-6b5843cd-b4fe-408e-9dca-7fdeca354df5 button.colab-df-convert');\n",
              "        buttonEl.style.display =\n",
              "          google.colab.kernel.accessAllowed ? 'block' : 'none';\n",
              "\n",
              "        async function convertToInteractive(key) {\n",
              "          const element = document.querySelector('#df-6b5843cd-b4fe-408e-9dca-7fdeca354df5');\n",
              "          const dataTable =\n",
              "            await google.colab.kernel.invokeFunction('convertToInteractive',\n",
              "                                                     [key], {});\n",
              "          if (!dataTable) return;\n",
              "\n",
              "          const docLinkHtml = 'Like what you see? Visit the ' +\n",
              "            '<a target=\"_blank\" href=https://colab.research.google.com/notebooks/data_table.ipynb>data table notebook</a>'\n",
              "            + ' to learn more about interactive tables.';\n",
              "          element.innerHTML = '';\n",
              "          dataTable['output_type'] = 'display_data';\n",
              "          await google.colab.output.renderOutput(dataTable, element);\n",
              "          const docLink = document.createElement('div');\n",
              "          docLink.innerHTML = docLinkHtml;\n",
              "          element.appendChild(docLink);\n",
              "        }\n",
              "      </script>\n",
              "    </div>\n",
              "  </div>\n",
              "  "
            ]
          },
          "metadata": {},
          "execution_count": 49
        }
      ]
    },
    {
      "cell_type": "code",
      "source": [
        "for fn in df.keys():#verisetindeki sütun adlarına sahip bir index nesnesi döndürür.Index nesnesi, sütun adlarını liste öğeleri olarak içeren bir liste gibidir.\n",
        "  print('User uploaded file  \"{name}\" with length {length} bytes'.format(name=fn, length=len(df[fn])))#dosyadaki sütun adları ve bu sütunlar altındaki veri sayısı görüntülenir."
      ],
      "metadata": {
        "colab": {
          "base_uri": "https://localhost:8080/"
        },
        "outputId": "dbfd93ce-d8f8-4090-e6f7-12cf22f5ccfe",
        "id": "eeZjkYkDONMM"
      },
      "execution_count": null,
      "outputs": [
        {
          "output_type": "stream",
          "name": "stdout",
          "text": [
            "User uploaded file  \"NUMARA\" with length 5207 bytes\n",
            "User uploaded file  \"CUMLELER\" with length 5207 bytes\n",
            "User uploaded file  \"ETIKETLER\" with length 5207 bytes\n"
          ]
        }
      ]
    },
    {
      "cell_type": "code",
      "source": [
        "X=df[['CUMLELER']]\n",
        "y=df['ETIKETLER']"
      ],
      "metadata": {
        "id": "KKLN0rLGOSoZ"
      },
      "execution_count": null,
      "outputs": []
    },
    {
      "cell_type": "code",
      "source": [
        "X=df['CUMLELER']#Verisetinde cümlelerin yer aldığı sütun X değişkeninde saklanıyor\n",
        "y=df['ETIKETLER']#Verisetinde etiketlerin  yer aldığı sütun Y değişkeninde saklanıyor\n",
        "\n",
        "X_train, X_test, y_train, y_test = train_test_split(X, y, test_size=0.70, random_state=42) #verisetini %70 eğitim %30 test olarak ayırıyoruz"
      ],
      "metadata": {
        "id": "x5fDc-SzOVQp"
      },
      "execution_count": null,
      "outputs": []
    },
    {
      "cell_type": "code",
      "source": [
        "count_vect=CountVectorizer()\n",
        "X_train_counts = count_vect.fit_transform(X_train)\n",
        "##Burada eğitim için metin verilerinin vektörleşmesi gerekiyor.Bunun için CountVectorizer kullanılıyor."
      ],
      "metadata": {
        "id": "oiWP8-MuOZmq"
      },
      "execution_count": null,
      "outputs": []
    },
    {
      "cell_type": "code",
      "source": [
        "tfidf_transformer = TfidfTransformer()\n",
        "X_train_tfidf=tfidf_transformer.fit_transform(X_train_counts)\n",
        "#vektörlerden oluşan verinin TFIDF featurelara dönüşümü vardır.\n",
        "#kelimelerden oluşan verilerin sayısal veriye dönüşümü için 2 yöntem kullanılır:Bag of Words ve Embedding Model. Burada verilerin bag of words yöntemi ile değil de direkt TFIDF featurelara dönüşümü TfidTransformer() ile sağlanmıştır."
      ],
      "metadata": {
        "id": "yKsIa8ayOd9Y"
      },
      "execution_count": null,
      "outputs": []
    },
    {
      "cell_type": "code",
      "source": [
        "from sklearn.pipeline import Pipeline\n",
        "from sklearn .feature_extraction.text import TfidfVectorizer\n",
        "from sklearn.neighbors import KNeighborsClassifier\n",
        "\n",
        "text_clf = Pipeline([('tfidf',TfidfVectorizer()),\n",
        "                     ('clf',KNeighborsClassifier(n_neighbors=5)),])\n",
        "text_clf.fit(X_train, y_train)\n",
        "#giriş verilerini bir TF-IDF özellikleri matrisine dönüştüren ve KNN sınıflandırıcı kullanarak test verilerini sınıflandıran basit bir Pipeline nesnesi oluşturuyoruz.\n",
        "#Daha sonra tüm pipeline fit edilir ve test verilerini tahmin edebiliriz. Sıralı tahmin ediciler oluşturulmuş olur."
      ],
      "metadata": {
        "colab": {
          "base_uri": "https://localhost:8080/"
        },
        "outputId": "cf74a398-d7b6-416a-b18f-293c54b05305",
        "id": "G4X0eezEOgrY"
      },
      "execution_count": null,
      "outputs": [
        {
          "output_type": "execute_result",
          "data": {
            "text/plain": [
              "Pipeline(steps=[('tfidf', TfidfVectorizer()), ('clf', KNeighborsClassifier())])"
            ]
          },
          "metadata": {},
          "execution_count": 55
        }
      ]
    },
    {
      "cell_type": "code",
      "source": [
        "predictions = text_clf.predict(X_test)\n",
        "#test veriseti kullanılarak tahmin gerçekleştirilir."
      ],
      "metadata": {
        "id": "SckWz5KbOkiE"
      },
      "execution_count": null,
      "outputs": []
    },
    {
      "cell_type": "code",
      "source": [
        "print(metrics.confusion_matrix(y_test,predictions))\n",
        "#Yaptığımız sınıflandırmanın doğruluğunu kontrol etme yöntemlerinden birisi de hata matrisi oluşturmaktır. Hata matrisi için scikit-learn kütüphanesi metrics modülü confusion_matrix fonksiyonunu kullanıyoruz.\n",
        "#burada 127 yanlış 930 doğru sınıflandırma yapıldığını görüyoruz."
      ],
      "metadata": {
        "colab": {
          "base_uri": "https://localhost:8080/"
        },
        "outputId": "acf8803e-db68-4480-d006-d3d1e03a19e4",
        "id": "iXRu2rOSOnRZ"
      },
      "execution_count": null,
      "outputs": [
        {
          "output_type": "stream",
          "name": "stdout",
          "text": [
            "[[ 601  109   24   62    1  224]\n",
            " [ 135  187    9   21    3  142]\n",
            " [  85   28   44   12    2   60]\n",
            " [  87   40    6  109    0   46]\n",
            " [  25   23    0    5   20  103]\n",
            " [  67   32    6   19   10 1298]]\n"
          ]
        }
      ]
    },
    {
      "cell_type": "code",
      "source": [
        "print(metrics.classification_report(y_test,predictions))\n",
        "#Sınıflandırma raporu oluşturulur\n",
        "#presicion:(kesinlik)Tahminlerin yüzde kaçı doğru çıkmıştır,bunu gösterir.Pozitif olarak tahminlediğimiz değerlerin gerçekten kaç adedinin pozitif olduğunu göstermektedir.\n",
        "#recall(duyarlılık): bir sınıflandırıcının tüm pozitif örnekleri bulma yeteneğidir. Her sınıf için, gerçek pozitiflerin, gerçek pozitiflerin ve yanlış negatiflerin toplamına oranı olarak tanımlanır.\n",
        "#f1-score:Pozitif tahminlerin yüzde kaçının doğru olduğunu gösterir.Kesinlik ve duyarlılığın harmonik ortalmasıdır."
      ],
      "metadata": {
        "colab": {
          "base_uri": "https://localhost:8080/"
        },
        "outputId": "654cddfb-f4c4-4c1b-93d3-0cacf7c97ee8",
        "id": "A9M2ucGOOqH5"
      },
      "execution_count": null,
      "outputs": [
        {
          "output_type": "stream",
          "name": "stdout",
          "text": [
            "              precision    recall  f1-score   support\n",
            "\n",
            "          Y1       0.60      0.59      0.59      1021\n",
            "          Y2       0.45      0.38      0.41       497\n",
            "          Y3       0.49      0.19      0.28       231\n",
            "          Y4       0.48      0.38      0.42       288\n",
            "          Y5       0.56      0.11      0.19       176\n",
            "          Y6       0.69      0.91      0.79      1432\n",
            "\n",
            "    accuracy                           0.62      3645\n",
            "   macro avg       0.54      0.43      0.45      3645\n",
            "weighted avg       0.60      0.62      0.59      3645\n",
            "\n"
          ]
        }
      ]
    },
    {
      "cell_type": "code",
      "source": [
        "print(metrics.accuracy_score(y_test,predictions))\n",
        "#Çok etiketli sınıflandırmada, accuracy score küme doğruluğunu hesaplar: bir numune için tahmin edilen etiket kümesi, y_true içindeki karşılık gelen etiket kümesiyle tam olarak eşleşmelidir."
      ],
      "metadata": {
        "colab": {
          "base_uri": "https://localhost:8080/"
        },
        "outputId": "558c38a2-e321-40d1-ab16-6567a108baac",
        "id": "nn9Ew3c9OszJ"
      },
      "execution_count": null,
      "outputs": [
        {
          "output_type": "stream",
          "name": "stdout",
          "text": [
            "0.6197530864197531\n"
          ]
        }
      ]
    }
  ]
}